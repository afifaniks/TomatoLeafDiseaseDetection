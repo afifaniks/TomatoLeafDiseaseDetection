{
  "nbformat": 4,
  "nbformat_minor": 0,
  "metadata": {
    "colab": {
      "name": "Model Tester.ipynb",
      "provenance": [],
      "include_colab_link": true
    },
    "kernelspec": {
      "name": "python3",
      "display_name": "Python 3"
    }
  },
  "cells": [
    {
      "cell_type": "markdown",
      "metadata": {
        "id": "view-in-github",
        "colab_type": "text"
      },
      "source": [
        "<a href=\"https://colab.research.google.com/github/afifaniks/TomatoLeafDiseaseDetection/blob/master/Model_Tester.ipynb\" target=\"_parent\"><img src=\"https://colab.research.google.com/assets/colab-badge.svg\" alt=\"Open In Colab\"/></a>"
      ]
    },
    {
      "cell_type": "code",
      "metadata": {
        "id": "VNYwonqeX9Wb",
        "colab_type": "code",
        "colab": {
          "base_uri": "https://localhost:8080/",
          "height": 102
        },
        "outputId": "c6e8a812-7279-4d99-fb23-064f04043370"
      },
      "source": [
        "%tensorflow_version 1.15\n",
        "import os\n",
        "import matplotlib.pyplot as plt\n",
        "from keras.preprocessing.image import ImageDataGenerator\n",
        "from keras.models import Sequential\n",
        "from keras.layers import Conv2D, MaxPooling2D, Activation, Dropout, Flatten, Dense\n",
        "from keras.callbacks import EarlyStopping, ModelCheckpoint, ReduceLROnPlateau\n",
        "from keras.layers.normalization import BatchNormalization\n",
        "from keras import backend as K\n",
        "import keras\n",
        "from keras.preprocessing import image\n",
        "import numpy as np\n",
        "from google.colab import files\n",
        "import seaborn as sn\n",
        "from sklearn.metrics import confusion_matrix\n",
        "from sklearn.metrics import classification_report"
      ],
      "execution_count": 37,
      "outputs": [
        {
          "output_type": "stream",
          "text": [
            "`%tensorflow_version` only switches the major version: 1.x or 2.x.\n",
            "You set: `1.15`. This will be interpreted as: `1.x`.\n",
            "\n",
            "\n",
            "TensorFlow is already loaded. Please restart the runtime to change versions.\n"
          ],
          "name": "stdout"
        }
      ]
    },
    {
      "cell_type": "code",
      "metadata": {
        "id": "aR9wVYMrZvx0",
        "colab_type": "code",
        "colab": {}
      },
      "source": [
        "img_height = 256\n",
        "img_width = 256\n",
        "batch_dim = -1\n",
        "\n",
        "if K.image_data_format() == 'channels_first':\n",
        "    input_shape = (3, img_height, img_width)\n",
        "    batch_dim = 1\n",
        "else:\n",
        "    input_shape = (img_height, img_width, 3)"
      ],
      "execution_count": 38,
      "outputs": []
    },
    {
      "cell_type": "code",
      "metadata": {
        "id": "MCilzAbbYeim",
        "colab_type": "code",
        "colab": {
          "base_uri": "https://localhost:8080/",
          "height": 935
        },
        "outputId": "9d4f1b5e-fd41-42e4-916e-c589b7360f81"
      },
      "source": [
        "model = Sequential()\n",
        "model.add(Conv2D(32, (3, 3), input_shape=input_shape, bias_regularizer=keras.regularizers.l1_l2(l1=0.1, l2=0.01), activation='relu'))\n",
        "model.add(BatchNormalization(axis=batch_dim))\n",
        "model.add(MaxPooling2D(pool_size=(2, 2)))\n",
        "\n",
        "model.add(Conv2D(64, (3, 3), bias_regularizer=keras.regularizers.l1_l2(l1=0.1, l2=0.01), activation='relu'))\n",
        "model.add(BatchNormalization(axis=batch_dim))\n",
        "model.add(MaxPooling2D(pool_size=(2, 2)))\n",
        "\n",
        "model.add(Conv2D(128, (3, 3), bias_regularizer=keras.regularizers.l1_l2(l1=0.1, l2=0.01), activation='relu'))\n",
        "model.add(BatchNormalization(axis=batch_dim))\n",
        "model.add(MaxPooling2D(pool_size=(2, 2)))\n",
        "\n",
        "model.add(Conv2D(128, (3, 3), bias_regularizer=keras.regularizers.l1_l2(l1=0.1, l2=0.01), activation='relu'))\n",
        "model.add(BatchNormalization(axis=batch_dim))\n",
        "model.add(MaxPooling2D(pool_size=(2, 2)))\n",
        "\n",
        "model.add(Conv2D(64, (3, 3), bias_regularizer=keras.regularizers.l1_l2(l1=0.1, l2=0.01), activation='relu'))\n",
        "model.add(BatchNormalization(axis=batch_dim))\n",
        "model.add(MaxPooling2D(pool_size=(2, 2)))\n",
        "\n",
        "model.add(Flatten())\n",
        "model.add(Dense(512, activation='relu'))\n",
        "model.add(BatchNormalization(axis=batch_dim))\n",
        "\n",
        "model.add(Dense(64, activation='relu'))\n",
        "model.add(BatchNormalization(axis=batch_dim))\n",
        "model.add(Dropout(0.2))\n",
        "\n",
        "model.add(Dense(8))\n",
        "model.add(Activation(activation='softmax'))\n",
        "\n",
        "model.summary()"
      ],
      "execution_count": 39,
      "outputs": [
        {
          "output_type": "stream",
          "text": [
            "Model: \"sequential_3\"\n",
            "_________________________________________________________________\n",
            "Layer (type)                 Output Shape              Param #   \n",
            "=================================================================\n",
            "conv2d_11 (Conv2D)           (None, 254, 254, 32)      896       \n",
            "_________________________________________________________________\n",
            "batch_normalization_15 (Batc (None, 254, 254, 32)      128       \n",
            "_________________________________________________________________\n",
            "max_pooling2d_11 (MaxPooling (None, 127, 127, 32)      0         \n",
            "_________________________________________________________________\n",
            "conv2d_12 (Conv2D)           (None, 125, 125, 64)      18496     \n",
            "_________________________________________________________________\n",
            "batch_normalization_16 (Batc (None, 125, 125, 64)      256       \n",
            "_________________________________________________________________\n",
            "max_pooling2d_12 (MaxPooling (None, 62, 62, 64)        0         \n",
            "_________________________________________________________________\n",
            "conv2d_13 (Conv2D)           (None, 60, 60, 128)       73856     \n",
            "_________________________________________________________________\n",
            "batch_normalization_17 (Batc (None, 60, 60, 128)       512       \n",
            "_________________________________________________________________\n",
            "max_pooling2d_13 (MaxPooling (None, 30, 30, 128)       0         \n",
            "_________________________________________________________________\n",
            "conv2d_14 (Conv2D)           (None, 28, 28, 128)       147584    \n",
            "_________________________________________________________________\n",
            "batch_normalization_18 (Batc (None, 28, 28, 128)       512       \n",
            "_________________________________________________________________\n",
            "max_pooling2d_14 (MaxPooling (None, 14, 14, 128)       0         \n",
            "_________________________________________________________________\n",
            "conv2d_15 (Conv2D)           (None, 12, 12, 64)        73792     \n",
            "_________________________________________________________________\n",
            "batch_normalization_19 (Batc (None, 12, 12, 64)        256       \n",
            "_________________________________________________________________\n",
            "max_pooling2d_15 (MaxPooling (None, 6, 6, 64)          0         \n",
            "_________________________________________________________________\n",
            "flatten_3 (Flatten)          (None, 2304)              0         \n",
            "_________________________________________________________________\n",
            "dense_7 (Dense)              (None, 512)               1180160   \n",
            "_________________________________________________________________\n",
            "batch_normalization_20 (Batc (None, 512)               2048      \n",
            "_________________________________________________________________\n",
            "dense_8 (Dense)              (None, 64)                32832     \n",
            "_________________________________________________________________\n",
            "batch_normalization_21 (Batc (None, 64)                256       \n",
            "_________________________________________________________________\n",
            "dropout_3 (Dropout)          (None, 64)                0         \n",
            "_________________________________________________________________\n",
            "dense_9 (Dense)              (None, 8)                 520       \n",
            "_________________________________________________________________\n",
            "activation_3 (Activation)    (None, 8)                 0         \n",
            "=================================================================\n",
            "Total params: 1,532,104\n",
            "Trainable params: 1,530,120\n",
            "Non-trainable params: 1,984\n",
            "_________________________________________________________________\n"
          ],
          "name": "stdout"
        }
      ]
    },
    {
      "cell_type": "code",
      "metadata": {
        "id": "05vEe7djZ3kG",
        "colab_type": "code",
        "colab": {}
      },
      "source": [
        "model.load_weights('plants (2).h5')"
      ],
      "execution_count": 40,
      "outputs": []
    },
    {
      "cell_type": "code",
      "metadata": {
        "id": "R9e_U6qh5sEH",
        "colab_type": "code",
        "colab": {}
      },
      "source": [
        ""
      ],
      "execution_count": 40,
      "outputs": []
    },
    {
      "cell_type": "code",
      "metadata": {
        "id": "ArHix85B2gOu",
        "colab_type": "code",
        "colab": {}
      },
      "source": [
        "preds = []\n",
        "\n",
        "test_data_dir = 'Test_Dataset'\n",
        "\n",
        "dirs = sorted(os.listdir(test_data_dir))\n",
        "\n",
        "for class_index in range(len(dirs)):\n",
        "  class_path = os.path.join(test_data_dir, dirs[class_index])\n",
        "  files = sorted(os.listdir(class_path))\n",
        "\n",
        "  for f in files:\n",
        "    image_path = os.path.join(class_path, f)\n",
        "    image_pred = image.load_img(image_path, target_size=(img_height, img_width))\n",
        "\n",
        "    image_pred = image.img_to_array(image_pred) / 256\n",
        "    image_pred = np.expand_dims(image_pred, axis=0)\n",
        "\n",
        "    result = model.predict_classes(image_pred)\n",
        "\n",
        "    preds.append(result[0])\n",
        "  \n",
        "  class_index += 1\n"
      ],
      "execution_count": 41,
      "outputs": []
    },
    {
      "cell_type": "code",
      "metadata": {
        "id": "YPypdMKE6Q7W",
        "colab_type": "code",
        "colab": {
          "base_uri": "https://localhost:8080/",
          "height": 170
        },
        "outputId": "bced6ceb-aef6-4c7a-9be3-59d09e94fca9"
      },
      "source": [
        "test_datagen = ImageDataGenerator(rescale=1./255)\n",
        "\n",
        "test_generator = test_datagen.flow_from_directory(test_data_dir, target_size=(img_height, img_width), class_mode='categorical')\n",
        "\n",
        "test_generator.class_indices"
      ],
      "execution_count": 46,
      "outputs": [
        {
          "output_type": "stream",
          "text": [
            "Found 410 images belonging to 8 classes.\n"
          ],
          "name": "stdout"
        },
        {
          "output_type": "execute_result",
          "data": {
            "text/plain": [
              "{'Tomato_Bacterial_Spot': 0,\n",
              " 'Tomato_Early_Blight': 1,\n",
              " 'Tomato_Healthy': 2,\n",
              " 'Tomato_Late_Blight': 3,\n",
              " 'Tomato_Septoria_Leaf_Spot': 4,\n",
              " 'Tomato_Spider_Mites': 5,\n",
              " 'Tomato_Target_Spot': 6,\n",
              " 'Tomato_Yellow_Leaf': 7}"
            ]
          },
          "metadata": {
            "tags": []
          },
          "execution_count": 46
        }
      ]
    },
    {
      "cell_type": "code",
      "metadata": {
        "id": "66h3M1qR-Yx4",
        "colab_type": "code",
        "colab": {
          "base_uri": "https://localhost:8080/",
          "height": 153
        },
        "outputId": "8622277a-5127-4430-b325-2aae75490d39"
      },
      "source": [
        "target_names = list(test_generator.class_indices.keys())\n",
        "target_names"
      ],
      "execution_count": 52,
      "outputs": [
        {
          "output_type": "execute_result",
          "data": {
            "text/plain": [
              "['Tomato_Bacterial_Spot',\n",
              " 'Tomato_Early_Blight',\n",
              " 'Tomato_Healthy',\n",
              " 'Tomato_Late_Blight',\n",
              " 'Tomato_Septoria_Leaf_Spot',\n",
              " 'Tomato_Spider_Mites',\n",
              " 'Tomato_Target_Spot',\n",
              " 'Tomato_Yellow_Leaf']"
            ]
          },
          "metadata": {
            "tags": []
          },
          "execution_count": 52
        }
      ]
    },
    {
      "cell_type": "code",
      "metadata": {
        "id": "iH8Fv5pL6F8M",
        "colab_type": "code",
        "colab": {
          "base_uri": "https://localhost:8080/",
          "height": 153
        },
        "outputId": "33889d96-8f20-45ba-c14b-0a013dbb87be"
      },
      "source": [
        "confusion_matrix(test_generator.classes, preds)"
      ],
      "execution_count": 55,
      "outputs": [
        {
          "output_type": "execute_result",
          "data": {
            "text/plain": [
              "array([[49,  0,  0,  0,  0,  0,  1,  0],\n",
              "       [ 0, 60,  0,  0,  0,  0,  0,  0],\n",
              "       [ 0,  0, 50,  0,  0,  0,  0,  0],\n",
              "       [ 0,  0,  0, 48,  1,  1,  0,  0],\n",
              "       [ 0,  0,  0,  0, 50,  0,  0,  0],\n",
              "       [ 0,  0,  0,  0,  0, 50,  0,  0],\n",
              "       [ 0,  0,  2,  0,  2,  0, 46,  0],\n",
              "       [ 0,  0,  0,  0,  0,  0,  0, 50]])"
            ]
          },
          "metadata": {
            "tags": []
          },
          "execution_count": 55
        }
      ]
    },
    {
      "cell_type": "code",
      "metadata": {
        "id": "QTLx48eO-Xwq",
        "colab_type": "code",
        "colab": {}
      },
      "source": [
        ""
      ],
      "execution_count": null,
      "outputs": []
    },
    {
      "cell_type": "code",
      "metadata": {
        "id": "KLKiU1uPfLsA",
        "colab_type": "code",
        "colab": {
          "base_uri": "https://localhost:8080/",
          "height": 272
        },
        "outputId": "847e5566-fb13-4683-8470-2011a609d791"
      },
      "source": [
        "print(classification_report(test_generator.classes, preds, target_names= target_names))"
      ],
      "execution_count": 57,
      "outputs": [
        {
          "output_type": "stream",
          "text": [
            "                           precision    recall  f1-score   support\n",
            "\n",
            "    Tomato_Bacterial_Spot       1.00      0.98      0.99        50\n",
            "      Tomato_Early_Blight       1.00      1.00      1.00        60\n",
            "           Tomato_Healthy       0.96      1.00      0.98        50\n",
            "       Tomato_Late_Blight       1.00      0.96      0.98        50\n",
            "Tomato_Septoria_Leaf_Spot       0.94      1.00      0.97        50\n",
            "      Tomato_Spider_Mites       0.98      1.00      0.99        50\n",
            "       Tomato_Target_Spot       0.98      0.92      0.95        50\n",
            "       Tomato_Yellow_Leaf       1.00      1.00      1.00        50\n",
            "\n",
            "                 accuracy                           0.98       410\n",
            "                macro avg       0.98      0.98      0.98       410\n",
            "             weighted avg       0.98      0.98      0.98       410\n",
            "\n"
          ],
          "name": "stdout"
        }
      ]
    },
    {
      "cell_type": "code",
      "metadata": {
        "id": "k778bGYG-S6r",
        "colab_type": "code",
        "colab": {}
      },
      "source": [
        ""
      ],
      "execution_count": null,
      "outputs": []
    }
  ]
}