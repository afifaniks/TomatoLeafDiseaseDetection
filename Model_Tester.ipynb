{
  "nbformat": 4,
  "nbformat_minor": 0,
  "metadata": {
    "colab": {
      "name": "Model Tester.ipynb",
      "provenance": [],
      "include_colab_link": true
    },
    "kernelspec": {
      "name": "python3",
      "display_name": "Python 3"
    }
  },
  "cells": [
    {
      "cell_type": "markdown",
      "metadata": {
        "id": "view-in-github",
        "colab_type": "text"
      },
      "source": [
        "<a href=\"https://colab.research.google.com/github/afifaniks/TomatoLeafDiseaseDetection/blob/master/Model_Tester.ipynb\" target=\"_parent\"><img src=\"https://colab.research.google.com/assets/colab-badge.svg\" alt=\"Open In Colab\"/></a>"
      ]
    },
    {
      "cell_type": "code",
      "metadata": {
        "id": "VNYwonqeX9Wb",
        "colab_type": "code",
        "colab": {
          "base_uri": "https://localhost:8080/",
          "height": 173
        },
        "outputId": "734f731b-d233-498f-e3fc-ead8a3775f4e"
      },
      "source": [
        "%tensorflow_version 1.15\n",
        "import os\n",
        "import matplotlib.pyplot as plt\n",
        "from keras.preprocessing.image import ImageDataGenerator\n",
        "from keras.models import Sequential\n",
        "from keras.layers import Conv2D, MaxPooling2D, Activation, Dropout, Flatten, Dense\n",
        "from keras.callbacks import EarlyStopping, ModelCheckpoint, ReduceLROnPlateau\n",
        "from keras.layers.normalization import BatchNormalization\n",
        "from keras import backend as K\n",
        "import keras\n",
        "from keras.preprocessing import image\n",
        "import numpy as np\n",
        "from google.colab import files\n",
        "import seaborn as sn\n",
        "from sklearn.metrics import confusion_matrix\n",
        "from sklearn.metrics import classification_report\n",
        "import pandas as pd"
      ],
      "execution_count": 1,
      "outputs": [
        {
          "output_type": "stream",
          "text": [
            "`%tensorflow_version` only switches the major version: 1.x or 2.x.\n",
            "You set: `1.15`. This will be interpreted as: `1.x`.\n",
            "\n",
            "\n",
            "TensorFlow 1.x selected.\n"
          ],
          "name": "stdout"
        },
        {
          "output_type": "stream",
          "text": [
            "Using TensorFlow backend.\n",
            "/usr/local/lib/python3.6/dist-packages/statsmodels/tools/_testing.py:19: FutureWarning: pandas.util.testing is deprecated. Use the functions in the public API at pandas.testing instead.\n",
            "  import pandas.util.testing as tm\n"
          ],
          "name": "stderr"
        }
      ]
    },
    {
      "cell_type": "code",
      "metadata": {
        "id": "UCJ67o3hAWym",
        "colab_type": "code",
        "colab": {
          "base_uri": "https://localhost:8080/",
          "height": 1000
        },
        "outputId": "89f498e5-72fd-4ac1-9a49-db769ff04f4f"
      },
      "source": [
        "!unzip Test_Dataset.zip"
      ],
      "execution_count": 6,
      "outputs": [
        {
          "output_type": "stream",
          "text": [
            "Archive:  Test_Dataset.zip\n",
            "   creating: Test_Dataset/\n",
            "   creating: Test_Dataset/Tomato_Bacterial_Spot/\n",
            "  inflating: Test_Dataset/Tomato_Bacterial_Spot/b0827469-6ac0-4a9e-baca-ac4763b00f95___GCREC_Bact.Sp 5866.JPG  \n",
            "  inflating: Test_Dataset/Tomato_Bacterial_Spot/b19191da-a846-4e30-85b2-a028e1d85376___UF.GRC_BS_Lab Leaf 8635.JPG  \n",
            "  inflating: Test_Dataset/Tomato_Bacterial_Spot/b2045ca9-7594-4ff9-a2ae-4faef86160ba___GCREC_Bact.Sp 5816.JPG  \n",
            "  inflating: Test_Dataset/Tomato_Bacterial_Spot/b29993ed-4d96-499b-ad36-379fda20c9c7___UF.GRC_BS_Lab Leaf 8843.JPG  \n",
            "  inflating: Test_Dataset/Tomato_Bacterial_Spot/b4181c58-367b-4289-a1f1-7d0ec04ebf58___GCREC_Bact.Sp 3555.JPG  \n",
            "  inflating: Test_Dataset/Tomato_Bacterial_Spot/b510960e-d1df-46e6-bc09-d14610011a4b___GCREC_Bact.Sp 3393.JPG  \n",
            "  inflating: Test_Dataset/Tomato_Bacterial_Spot/b54854bf-7cc6-4ee4-8189-122c26e75122___GCREC_Bact.Sp 5912.JPG  \n",
            "  inflating: Test_Dataset/Tomato_Bacterial_Spot/b5839236-fbe9-4b0d-b80e-9956f2018d64___UF.GRC_BS_Lab Leaf 0471.JPG  \n",
            "  inflating: Test_Dataset/Tomato_Bacterial_Spot/b6693ee1-8345-4796-9b9b-33d968e1e66f___GCREC_Bact.Sp 3097.JPG  \n",
            "  inflating: Test_Dataset/Tomato_Bacterial_Spot/b700874c-33cd-4e1d-8b84-f6313e31fc56___GCREC_Bact.Sp 5690.JPG  \n",
            "  inflating: Test_Dataset/Tomato_Bacterial_Spot/b71909d5-1354-4730-abdd-504679c558be___GCREC_Bact.Sp 5944.JPG  \n",
            "  inflating: Test_Dataset/Tomato_Bacterial_Spot/b72055e8-e855-4c88-a6b1-88955a1b8be3___GCREC_Bact.Sp 5992.JPG  \n",
            "  inflating: Test_Dataset/Tomato_Bacterial_Spot/b7369ccc-8bb8-462f-a915-d0737d1c87c2___GCREC_Bact.Sp 5646.JPG  \n",
            "  inflating: Test_Dataset/Tomato_Bacterial_Spot/b8223dd9-c0f5-4e25-8057-1b0bbce7517f___GCREC_Bact.Sp 3402.JPG  \n",
            "  inflating: Test_Dataset/Tomato_Bacterial_Spot/b8682577-be6c-42a9-9d02-48300363e796___GCREC_Bact.Sp 3498.JPG  \n",
            "  inflating: Test_Dataset/Tomato_Bacterial_Spot/b8925aa5-0722-4332-abc1-a8ff620328b4___GCREC_Bact.Sp 3604.JPG  \n",
            "  inflating: Test_Dataset/Tomato_Bacterial_Spot/b9072867-69f3-4ea7-9afb-06781b4a4f2f___GCREC_Bact.Sp 3253.JPG  \n",
            "  inflating: Test_Dataset/Tomato_Bacterial_Spot/ba08cd52-37f7-4d42-be7e-9bd8db9d1d66___GCREC_Bact.Sp 3661.JPG  \n",
            "  inflating: Test_Dataset/Tomato_Bacterial_Spot/ba2bdb7a-35c7-4842-a8e0-af3eac603cad___GCREC_Bact.Sp 6034.JPG  \n",
            "  inflating: Test_Dataset/Tomato_Bacterial_Spot/ba6c74fb-f6d1-4561-9b3b-30292b940691___GCREC_Bact.Sp 5657.JPG  \n",
            "  inflating: Test_Dataset/Tomato_Bacterial_Spot/f04fd2e9-8aef-423f-8c47-42e179092bad___GCREC_Bact.Sp 3679.JPG  \n",
            "  inflating: Test_Dataset/Tomato_Bacterial_Spot/f05d6f9e-357a-47a5-acf1-fc79d4417b96___GCREC_Bact.Sp 5636.JPG  \n",
            "  inflating: Test_Dataset/Tomato_Bacterial_Spot/f14c5648-4fde-4e6c-8937-6fb2e33aa95f___GCREC_Bact.Sp 5666.JPG  \n",
            "  inflating: Test_Dataset/Tomato_Bacterial_Spot/f15cec7f-fe4f-4837-a3f0-1ec2bceaa10d___UF.GRC_BS_Lab Leaf 0226.JPG  \n",
            "  inflating: Test_Dataset/Tomato_Bacterial_Spot/f16c8cc2-693b-4050-bbf6-686973becdad___GCREC_Bact.Sp 3780.JPG  \n",
            "  inflating: Test_Dataset/Tomato_Bacterial_Spot/f16e39a5-a50c-4378-a4f1-fe8f3aecf2cb___GCREC_Bact.Sp 3644.JPG  \n",
            "  inflating: Test_Dataset/Tomato_Bacterial_Spot/f21dbfc9-1b65-4407-808b-55685784bd19___GCREC_Bact.Sp 3138.JPG  \n",
            "  inflating: Test_Dataset/Tomato_Bacterial_Spot/f24c87bb-3965-435e-b189-0f9c924f9015___GCREC_Bact.Sp 3741.JPG  \n",
            "  inflating: Test_Dataset/Tomato_Bacterial_Spot/f26ada25-77e0-4439-9cdc-b833b57e1053___GCREC_Bact.Sp 5978.JPG  \n",
            "  inflating: Test_Dataset/Tomato_Bacterial_Spot/f31f2360-da0a-434a-8469-ebd257c4c29c___GCREC_Bact.Sp 5751.JPG  \n",
            "  inflating: Test_Dataset/Tomato_Bacterial_Spot/f35d15fe-0e89-45a0-b2c2-81bbc6173915___GCREC_Bact.Sp 3766.JPG  \n",
            "  inflating: Test_Dataset/Tomato_Bacterial_Spot/f3e97d75-404f-4143-8316-87fa9a7ada6f___UF.GRC_BS_Lab Leaf 9173.JPG  \n",
            "  inflating: Test_Dataset/Tomato_Bacterial_Spot/f3febe3a-8dfb-442c-a227-8c77d63e7252___GCREC_Bact.Sp 5823.JPG  \n",
            "  inflating: Test_Dataset/Tomato_Bacterial_Spot/f44c58b0-4d48-4b8b-b812-e472d2737998___GCREC_Bact.Sp 5553.JPG  \n",
            "  inflating: Test_Dataset/Tomato_Bacterial_Spot/f47f66f7-19c1-46d2-8dd1-24ad16f0b670___UF.GRC_BS_Lab Leaf 0225.JPG  \n",
            "  inflating: Test_Dataset/Tomato_Bacterial_Spot/f4f094d0-b879-4352-adf1-c9f9b8303881___GCREC_Bact.Sp 3539.JPG  \n",
            "  inflating: Test_Dataset/Tomato_Bacterial_Spot/f4f56f28-479b-4e71-afb2-210e668a411e___GCREC_Bact.Sp 3537.JPG  \n",
            "  inflating: Test_Dataset/Tomato_Bacterial_Spot/f53d3b8d-67ba-4a9c-b7f7-712291cf9345___UF.GRC_BS_Lab Leaf 0345.JPG  \n",
            "  inflating: Test_Dataset/Tomato_Bacterial_Spot/f5ac235b-3d9c-46a8-9e0a-750423e067bb___GCREC_Bact.Sp 6291.JPG  \n",
            "  inflating: Test_Dataset/Tomato_Bacterial_Spot/f5b9b1ee-1abf-489f-be80-a4c80bfb2820___UF.GRC_BS_Lab Leaf 0445.JPG  \n",
            "  inflating: Test_Dataset/Tomato_Bacterial_Spot/f5d65946-2c64-4de0-8769-ec32c6d8ee0c___GCREC_Bact.Sp 6168.JPG  \n",
            "  inflating: Test_Dataset/Tomato_Bacterial_Spot/f5d9fa8d-af44-4362-9134-190479bbe522___GCREC_Bact.Sp 3610.JPG  \n",
            "  inflating: Test_Dataset/Tomato_Bacterial_Spot/f6bb2bc6-ce10-4b4c-a02d-5540bb42fae6___GCREC_Bact.Sp 3439.JPG  \n",
            "  inflating: Test_Dataset/Tomato_Bacterial_Spot/f7b14a90-c29b-49b5-8d7e-ec982b44b268___UF.GRC_BS_Lab Leaf 0994.JPG  \n",
            "  inflating: Test_Dataset/Tomato_Bacterial_Spot/f7b71d93-0c1e-4bfe-a00c-004ad1cd2158___GCREC_Bact.Sp 6298.JPG  \n",
            "  inflating: Test_Dataset/Tomato_Bacterial_Spot/f8c5fd52-52f4-4dca-aed6-171813775027___GCREC_Bact.Sp 3036.JPG  \n",
            "  inflating: Test_Dataset/Tomato_Bacterial_Spot/f8d0bd35-6d9b-4228-b1a0-d47e1ce3ec5f___GCREC_Bact.Sp 5624.JPG  \n",
            "  inflating: Test_Dataset/Tomato_Bacterial_Spot/f8efccbd-9721-4291-a095-9fb29527bbc4___UF.GRC_BS_Lab Leaf 0235.JPG  \n",
            "  inflating: Test_Dataset/Tomato_Bacterial_Spot/f9ca8392-73cf-4045-96f4-5fe481418df1___GCREC_Bact.Sp 3165.JPG  \n",
            "  inflating: Test_Dataset/Tomato_Bacterial_Spot/f9fc3cdb-7205-4898-ae4d-0125ffab1066___GCREC_Bact.Sp 5917.JPG  \n",
            "   creating: Test_Dataset/Tomato_Early_Blight/\n",
            "  inflating: Test_Dataset/Tomato_Early_Blight/e5266d06-0ba7-49c6-9bc6-c8351b56fc88___RS_Erly.B 8294.JPG  \n",
            "  inflating: Test_Dataset/Tomato_Early_Blight/e56354a5-5e3f-4ed6-bfe5-3c783a32dc98___RS_Erly.B 9413.JPG  \n",
            "  inflating: Test_Dataset/Tomato_Early_Blight/e803b217-d9a9-4b0d-9ea1-679145625159___RS_Erly.B 9571.JPG  \n",
            "  inflating: Test_Dataset/Tomato_Early_Blight/ea08bf85-06df-41d8-8b09-29feb53cdccf___RS_Erly.B 7486.JPG  \n",
            "  inflating: Test_Dataset/Tomato_Early_Blight/eb84cf99-aee8-4acc-8d3d-c5a24c672eb4___RS_Erly.B 7423.JPG  \n",
            "  inflating: Test_Dataset/Tomato_Early_Blight/eb94014e-83b7-46a4-9b1a-7cae23876302___RS_Erly.B 7471.JPG  \n",
            "  inflating: Test_Dataset/Tomato_Early_Blight/ee083b4e-3abc-4d9a-8395-de6c8ee27331___RS_Erly.B 9525.JPG  \n",
            "  inflating: Test_Dataset/Tomato_Early_Blight/ee7a6de8-1aca-4a55-8c12-69be6277c1c1___RS_Erly.B 9591.JPG  \n",
            "  inflating: Test_Dataset/Tomato_Early_Blight/ef7a2893-ca76-4f77-beb4-5bfcc729e324___RS_Erly.B 7454.JPG  \n",
            "  inflating: Test_Dataset/Tomato_Early_Blight/f035e3c9-069a-4392-9f0c-80262511f616___RS_Erly.B 9373.JPG  \n",
            "  inflating: Test_Dataset/Tomato_Early_Blight/f0763973-1898-4ae6-9350-c9b61976c600___RS_Erly.B 6456.JPG  \n",
            "  inflating: Test_Dataset/Tomato_Early_Blight/f188144b-d52c-40c5-a06f-07d5796f9ab0___RS_Erly.B 9553.JPG  \n",
            "  inflating: Test_Dataset/Tomato_Early_Blight/f33995ae-6456-476c-b832-4ff4cbaf49f7___RS_Erly.B 7525.JPG  \n",
            "  inflating: Test_Dataset/Tomato_Early_Blight/f398656e-d695-4cea-89d8-13490de9264c___RS_Erly.B 7592.JPG  \n",
            "  inflating: Test_Dataset/Tomato_Early_Blight/f432e10d-7fd7-4517-b635-cc7677f53d8e___RS_Erly.B 9590.JPG  \n",
            "  inflating: Test_Dataset/Tomato_Early_Blight/f459c3ee-91f9-42e4-8a61-8c2b6ba9a435___RS_Erly.B 9522.JPG  \n",
            "  inflating: Test_Dataset/Tomato_Early_Blight/f51330a5-e187-434f-add0-bd89f488eeee___RS_Erly.B 7699.JPG  \n",
            "  inflating: Test_Dataset/Tomato_Early_Blight/f525cb66-09b6-4f96-93dd-d6bc936f5645___RS_Erly.B 7700.JPG  \n",
            "  inflating: Test_Dataset/Tomato_Early_Blight/f547a0f4-912a-45ec-81aa-371ad12ecacf___RS_Erly.B 7608.JPG  \n",
            "  inflating: Test_Dataset/Tomato_Early_Blight/f59545f4-cded-405a-bf6f-f4b77e51e2ff___RS_Erly.B 7737.JPG  \n",
            "  inflating: Test_Dataset/Tomato_Early_Blight/f62e84ae-2bd4-4b15-918a-639c0470c25d___RS_Erly.B 7761.JPG  \n",
            "  inflating: Test_Dataset/Tomato_Early_Blight/f63f3650-9f84-45f9-898b-a6adef0294a3___RS_Erly.B 8419.JPG  \n",
            "  inflating: Test_Dataset/Tomato_Early_Blight/f64da90c-b9ca-4453-896f-4cd9e358c24a___RS_Erly.B 8223.JPG  \n",
            "  inflating: Test_Dataset/Tomato_Early_Blight/f7065117-14b1-44f1-b9ec-953b61fd3368___RS_Erly.B 9544.JPG  \n",
            "  inflating: Test_Dataset/Tomato_Early_Blight/f7357222-4e77-4c46-a0ff-a17e165a70ff___RS_Erly.B 9619.JPG  \n",
            "  inflating: Test_Dataset/Tomato_Early_Blight/f7682a27-eeb7-4e22-89f0-df8531c5fb8f___RS_Erly.B 7728.JPG  \n",
            "  inflating: Test_Dataset/Tomato_Early_Blight/f79134d0-8c6a-43ad-ba78-9323f9a9f84f___RS_Erly.B 9427.JPG  \n",
            "  inflating: Test_Dataset/Tomato_Early_Blight/f834c581-d183-4a7a-98a5-77e8e2cbfa69___RS_Erly.B 7722.JPG  \n",
            "  inflating: Test_Dataset/Tomato_Early_Blight/f8374b63-016a-4b76-9ca8-df348cb44564___RS_Erly.B 7688.JPG  \n",
            "  inflating: Test_Dataset/Tomato_Early_Blight/f870ea24-aac9-41cd-92a3-72f87d395c33___RS_Erly.B 7598.JPG  \n",
            "  inflating: Test_Dataset/Tomato_Early_Blight/f882f8cc-49bc-49f6-a6c0-fbffe60d81a0___RS_Erly.B 7672.JPG  \n",
            "  inflating: Test_Dataset/Tomato_Early_Blight/f88be630-f853-48f8-b546-a2f7966368a2___RS_Erly.B 7418.JPG  \n",
            "  inflating: Test_Dataset/Tomato_Early_Blight/f899b748-cd86-460f-a202-a6946e04946e___RS_Erly.B 7494.JPG  \n",
            "  inflating: Test_Dataset/Tomato_Early_Blight/f9095543-43a8-4dac-8d06-041203fa5af5___RS_Erly.B 6435.JPG  \n",
            "  inflating: Test_Dataset/Tomato_Early_Blight/f91230c1-b28c-46fe-ab7a-329fdb689a02___RS_Erly.B 9439.JPG  \n",
            "  inflating: Test_Dataset/Tomato_Early_Blight/f93578b3-4b98-4b13-95c3-495c656963f4___RS_Erly.B 8340.JPG  \n",
            "  inflating: Test_Dataset/Tomato_Early_Blight/fa5e382e-d1ad-42f9-a4e5-afb343f77a53___RS_Erly.B 9453.JPG  \n",
            "  inflating: Test_Dataset/Tomato_Early_Blight/fad513f7-c56a-439a-9a5b-515bd0fc8151___RS_Erly.B 9458.JPG  \n",
            "  inflating: Test_Dataset/Tomato_Early_Blight/fae08468-fe96-4604-9b86-bfe4c4f06999___RS_Erly.B 9530.JPG  \n",
            "  inflating: Test_Dataset/Tomato_Early_Blight/fb2aaea3-f1cd-49c3-aa02-b640c62e59f5___RS_Erly.B 9389.JPG  \n",
            "  inflating: Test_Dataset/Tomato_Early_Blight/fb3352cc-9189-4214-8b94-a60c6a392c96___RS_Erly.B 9600.JPG  \n",
            "  inflating: Test_Dataset/Tomato_Early_Blight/fb956247-8c0b-486a-b491-4d49e77e598e___RS_Erly.B 7842.JPG  \n",
            "  inflating: Test_Dataset/Tomato_Early_Blight/fbb02290-8863-482f-b898-0ea83a2b2fee___RS_Erly.B 9592.JPG  \n",
            "  inflating: Test_Dataset/Tomato_Early_Blight/fbb79594-419e-4bb7-9afa-6b9c0ba89033___RS_Erly.B 7644.JPG  \n",
            "  inflating: Test_Dataset/Tomato_Early_Blight/fbc07887-0306-4f85-9de9-ebb68a87753a___RS_Erly.B 7456.JPG  \n",
            "  inflating: Test_Dataset/Tomato_Early_Blight/fbe86131-6873-460e-880a-6ee8576b6bc9___RS_Erly.B 7551.JPG  \n",
            "  inflating: Test_Dataset/Tomato_Early_Blight/fc296f63-8cb3-42f1-a9c1-f6ed8e49777c___RS_Erly.B 6400.JPG  \n",
            "  inflating: Test_Dataset/Tomato_Early_Blight/fc38942e-e609-41a2-970c-cc1a67b16fe2___RS_Erly.B 7793.JPG  \n",
            "  inflating: Test_Dataset/Tomato_Early_Blight/fcbc5323-1679-416c-bb10-534e686f21bd___RS_Erly.B 7801.JPG  \n",
            "  inflating: Test_Dataset/Tomato_Early_Blight/fcf8557f-890e-441b-9dc1-c8854f694f2e___RS_Erly.B 9505.JPG  \n",
            "   creating: Test_Dataset/Tomato_Healthy/\n",
            "  inflating: Test_Dataset/Tomato_Healthy/f0336650-0021-43e9-9e8c-d921c5532116___RS_HL 0249.JPG  \n",
            "  inflating: Test_Dataset/Tomato_Healthy/f163df8f-6510-4520-82ee-779d2679af33___GH_HL Leaf 422.2.JPG  \n",
            "  inflating: Test_Dataset/Tomato_Healthy/f2758dd2-5274-45df-8f00-639731ec3120___RS_HL 9750.JPG  \n",
            "  inflating: Test_Dataset/Tomato_Healthy/f3231f5f-c6cf-4a37-a3da-5d6e7a8afb0e___RS_HL 0450.JPG  \n",
            "  inflating: Test_Dataset/Tomato_Healthy/f433b7ce-cddb-4f22-8b0f-2376789c45f1___GH_HL Leaf 337.JPG  \n",
            "  inflating: Test_Dataset/Tomato_Healthy/f437a6f0-4c35-4d6b-8eaa-ca57f18fad53___GH_HL Leaf 229.JPG  \n",
            "  inflating: Test_Dataset/Tomato_Healthy/f5252d99-6752-457b-b430-965d545d3b41___RS_HL 0412.JPG  \n",
            "  inflating: Test_Dataset/Tomato_Healthy/f6884753-9a44-4f1c-a99b-ef40faa2df5a___RS_HL 0492.JPG  \n",
            "  inflating: Test_Dataset/Tomato_Healthy/f7069452-9405-45a6-bfb3-f21ea42b9b02___RS_HL 9966.JPG  \n",
            "  inflating: Test_Dataset/Tomato_Healthy/f9546cff-061d-4240-88ba-492272a92847___GH_HL Leaf 176.2.JPG  \n",
            "  inflating: Test_Dataset/Tomato_Healthy/f96987aa-d19d-415b-a68c-73a07a47d521___RS_HL 9736.JPG  \n",
            "  inflating: Test_Dataset/Tomato_Healthy/fa55bcc1-cda8-458e-a137-579f1dc1bda8___RS_HL 9845.JPG  \n",
            "  inflating: Test_Dataset/Tomato_Healthy/fab41c44-a8b6-4821-8ffa-08a2c1234970___RS_HL 0070.JPG  \n",
            "  inflating: Test_Dataset/Tomato_Healthy/fad6841f-6194-4cf4-8101-b42206bd476c___RS_HL 0411.JPG  \n",
            "  inflating: Test_Dataset/Tomato_Healthy/fad75ca9-7035-4045-b3d3-475b558d49ba___RS_HL 0010.JPG  \n",
            "  inflating: Test_Dataset/Tomato_Healthy/fae1be6a-cac5-481b-96ab-4a4abae39af5___RS_HL 0227.JPG  \n",
            "  inflating: Test_Dataset/Tomato_Healthy/fb084c48-8c42-43a1-8193-191ba873bd2d___GH_HL Leaf 514.1.JPG  \n",
            "  inflating: Test_Dataset/Tomato_Healthy/fb0f6e2b-1f21-406f-83d3-2c6236d47ca0___RS_HL 0042.JPG  \n",
            "  inflating: Test_Dataset/Tomato_Healthy/fb123526-11fd-4d0d-96cc-3423da0b61a2___RS_HL 9756.JPG  \n",
            "  inflating: Test_Dataset/Tomato_Healthy/fb2c7e00-39a7-4be3-b8d1-b4c42c65e20e___RS_HL 9636.JPG  \n",
            "  inflating: Test_Dataset/Tomato_Healthy/fb4ce6df-613b-4d52-8e11-28dfa448a5e1___GH_HL Leaf 483.JPG  \n",
            "  inflating: Test_Dataset/Tomato_Healthy/fb73cd43-aa32-4aba-978f-034c9c809c25___RS_HL 9749.JPG  \n",
            "  inflating: Test_Dataset/Tomato_Healthy/fc1e8e1c-5939-4ad9-b87e-2cbb77cef418___RS_HL 0536.JPG  \n",
            "  inflating: Test_Dataset/Tomato_Healthy/fc22b565-e97b-454d-8792-fd945d1badc5___RS_HL 9880.JPG  \n",
            "  inflating: Test_Dataset/Tomato_Healthy/fc5c5672-d1e5-4374-bd99-608d95609a7f___RS_HL 0474.JPG  \n",
            "  inflating: Test_Dataset/Tomato_Healthy/fc5d1b1e-a225-463a-ab66-ab8f3dbf1861___GH_HL Leaf 363.JPG  \n",
            "  inflating: Test_Dataset/Tomato_Healthy/fc849a80-15fd-486d-bedc-0239e1278660___RS_HL 0494.JPG  \n",
            "  inflating: Test_Dataset/Tomato_Healthy/fccb58ad-1644-403e-851b-dd3a27c893ef___GH_HL Leaf 387.1.JPG  \n",
            "  inflating: Test_Dataset/Tomato_Healthy/fcf52850-1cc7-4b7a-8e89-3c3ec1f4be1d___RS_HL 9766.JPG  \n",
            "  inflating: Test_Dataset/Tomato_Healthy/fcfb486e-63dc-405c-8a17-0551e5f76959___RS_HL 9663.JPG  \n",
            "  inflating: Test_Dataset/Tomato_Healthy/fd061d12-644d-4ac5-a0b5-2e88469e506b___GH_HL Leaf 414.JPG  \n",
            "  inflating: Test_Dataset/Tomato_Healthy/fd09836b-96be-498a-a720-e17a54522de7___RS_HL 9687.JPG  \n",
            "  inflating: Test_Dataset/Tomato_Healthy/fd1db002-680b-432b-9d60-68b80a4a310f___RS_HL 0049.JPG  \n",
            "  inflating: Test_Dataset/Tomato_Healthy/fd27de23-27cd-4f09-a962-df0b26899b07___RS_HL 0039.JPG  \n",
            "  inflating: Test_Dataset/Tomato_Healthy/fd2fa9cc-2147-40ff-9e71-0056eb7884ed___GH_HL Leaf 285.JPG  \n",
            "  inflating: Test_Dataset/Tomato_Healthy/fd31ab37-d2af-40c8-9292-e143807ec0f2___RS_HL 0507.JPG  \n",
            "  inflating: Test_Dataset/Tomato_Healthy/fd75c626-bda9-4388-8b29-75d40ea7c6d4___RS_HL 0041.JPG  \n",
            "  inflating: Test_Dataset/Tomato_Healthy/fda63621-b0eb-4938-8ec4-8afffc81ddd6___GH_HL Leaf 268.JPG  \n",
            "  inflating: Test_Dataset/Tomato_Healthy/fdbbea63-18e0-401f-8269-64ba005ab53f___RS_HL 0213.JPG  \n",
            "  inflating: Test_Dataset/Tomato_Healthy/fde29807-8223-4fc5-a06b-7cc93101a6d1___GH_HL Leaf 174.JPG  \n",
            "  inflating: Test_Dataset/Tomato_Healthy/fe0b76dc-4263-4cda-8840-310ebe72a432___GH_HL Leaf 490.JPG  \n",
            "  inflating: Test_Dataset/Tomato_Healthy/fe0e2d7f-3aee-4c36-8fe1-661b4eacc994___GH_HL Leaf 507.1.JPG  \n",
            "  inflating: Test_Dataset/Tomato_Healthy/fe28e4c7-0c35-4f52-984e-0e60f33a2c6e___GH_HL Leaf 198.JPG  \n",
            "  inflating: Test_Dataset/Tomato_Healthy/fe8f8808-2631-491e-a46b-bd2a1a4958e7___GH_HL Leaf 213.1.JPG  \n",
            "  inflating: Test_Dataset/Tomato_Healthy/feda8fd2-1d18-443e-a7d9-15bd6bf8ce66___RS_HL 0332.JPG  \n",
            "  inflating: Test_Dataset/Tomato_Healthy/ff354b62-5981-43d1-8cfe-ac58bc20ca20___GH_HL Leaf 221.JPG  \n",
            "  inflating: Test_Dataset/Tomato_Healthy/ff774aec-2504-4d11-8a61-2fd74c689a6f___RS_HL 9904.JPG  \n",
            "  inflating: Test_Dataset/Tomato_Healthy/ff8b36d5-feaf-4d2d-8126-18670a312657___RS_HL 0229.JPG  \n",
            "  inflating: Test_Dataset/Tomato_Healthy/ffb39943-eabb-42cf-ad09-b17019e46d66___RS_HL 9871.JPG  \n",
            "  inflating: Test_Dataset/Tomato_Healthy/ffd8aa68-138f-4114-96c7-21eef72e1e13___RS_HL 9881.JPG  \n",
            "   creating: Test_Dataset/Tomato_Late_Blight/\n",
            "  inflating: Test_Dataset/Tomato_Late_Blight/f1604e72-b6ee-4b8b-81fa-cf3acc501e17___GHLB2 Leaf 8752.JPG  \n",
            "  inflating: Test_Dataset/Tomato_Late_Blight/f2443e0e-d34e-4e25-aa5d-9653e2dd36ca___RS_Late.B 6465.JPG  \n",
            "  inflating: Test_Dataset/Tomato_Late_Blight/f2581062-48ef-4957-bab3-9beb606ff3ef___RS_Late.B 6291.JPG  \n",
            "  inflating: Test_Dataset/Tomato_Late_Blight/f33028e4-68df-4312-ba25-94d65f03efcf___RS_Late.B 5530.JPG  \n",
            "  inflating: Test_Dataset/Tomato_Late_Blight/f336431f-8e79-4ff6-9afd-03bacf1bfaf2___RS_Late.B 5521.JPG  \n",
            "  inflating: Test_Dataset/Tomato_Late_Blight/f5261645-e84e-433a-8edb-ff53e8586646___GHLB2 Leaf 143.1.JPG  \n",
            "  inflating: Test_Dataset/Tomato_Late_Blight/f5538cfb-7556-4f4d-a680-6a15cc6283ab___RS_Late.B 4962.JPG  \n",
            "  inflating: Test_Dataset/Tomato_Late_Blight/f582a1b2-636d-4a0e-a113-5dcfb5c2d7e8___GHLB2 Leaf 9098.JPG  \n",
            "  inflating: Test_Dataset/Tomato_Late_Blight/f59830b4-079b-4ca4-9c92-7416f0818a2b___RS_Late.B 5010.JPG  \n",
            "  inflating: Test_Dataset/Tomato_Late_Blight/f6114b61-d9c7-43fb-abb4-5a79501a624b___RS_Late.B 6715.JPG  \n",
            "  inflating: Test_Dataset/Tomato_Late_Blight/f73231ab-afd2-4d01-acd2-7ba229349de6___RS_Late.B 6969.JPG  \n",
            "  inflating: Test_Dataset/Tomato_Late_Blight/f8024ad7-ded1-42aa-ab6d-139f7069d10e___RS_Late.B 7157.JPG  \n",
            "  inflating: Test_Dataset/Tomato_Late_Blight/f8176522-163b-48ee-a1a2-ea94c782b4ad___RS_Late.B 6137.JPG  \n",
            "  inflating: Test_Dataset/Tomato_Late_Blight/f843c76c-a7d4-4031-abe2-9245602fbb15___GHLB_PS Leaf 49.1 Day 18.jpg  \n",
            "  inflating: Test_Dataset/Tomato_Late_Blight/f879b7d4-efe4-4b31-8a89-35db50d561c9___RS_Late.B 4897.JPG  \n",
            "  inflating: Test_Dataset/Tomato_Late_Blight/f891c2b9-aa37-4b0c-9777-6ce762eb9285___GHLB2 Leaf 8696.JPG  \n",
            "  inflating: Test_Dataset/Tomato_Late_Blight/f972ee8f-5f07-49a0-974c-b919b0ad5b0b___RS_Late.B 4961.JPG  \n",
            "  inflating: Test_Dataset/Tomato_Late_Blight/fa4ec25a-250d-4eb3-ba0d-9d1c51eb3995___GHLB2 Leaf 8990.JPG  \n",
            "  inflating: Test_Dataset/Tomato_Late_Blight/fa524c8c-e08d-43ee-9f33-3bd2bf9b09f5___GHLB2 Leaf 8686.JPG  \n",
            "  inflating: Test_Dataset/Tomato_Late_Blight/fa98c595-ea2f-415d-90de-25c0a3926eee___RS_Late.B 6993.JPG  \n",
            "  inflating: Test_Dataset/Tomato_Late_Blight/fabaa5c5-3180-49b7-b538-d1a31316afd8___GHLB2 Leaf 121.4.JPG  \n",
            "  inflating: Test_Dataset/Tomato_Late_Blight/fabba25a-e191-47c5-a468-6acf744312e1___GHLB2 Leaf 8835.JPG  \n",
            "  inflating: Test_Dataset/Tomato_Late_Blight/fb584346-7e1d-46d6-ae0b-365b6ccad7ce___GHLB2 Leaf 8981.JPG  \n",
            "  inflating: Test_Dataset/Tomato_Late_Blight/fb5dc387-cb1d-49bb-b81e-58d60705a2fd___GHLB_PS Leaf 1.3 Day 16.jpg  \n",
            "  inflating: Test_Dataset/Tomato_Late_Blight/fbbe43eb-7d70-4053-97ac-908fb9af1a6f___RS_Late.B 6587.JPG  \n",
            "  inflating: Test_Dataset/Tomato_Late_Blight/fbd28294-04c7-4f8a-8576-f523856c46d9___RS_Late.B 6640.JPG  \n",
            "  inflating: Test_Dataset/Tomato_Late_Blight/fbe8ab0c-7091-4bea-a2a5-94765096a7c9___RS_Late.B 6999.JPG  \n",
            "  inflating: Test_Dataset/Tomato_Late_Blight/fbf93d24-8df5-4361-9cb3-af61baf177f9___RS_Late.B 4943.JPG  \n",
            "  inflating: Test_Dataset/Tomato_Late_Blight/fc0cec90-4a1e-4cdc-95cf-a34abc1dc8c9___GHLB2 Leaf 117.2.JPG  \n",
            "  inflating: Test_Dataset/Tomato_Late_Blight/fc4eb42f-062f-4840-80f5-3244866a1e3a___GHLB2 Leaf 125.2.JPG  \n",
            "  inflating: Test_Dataset/Tomato_Late_Blight/fc77b008-6f35-40c7-96d4-64660bb624dc___GHLB2 Leaf 8812.JPG  \n",
            "  inflating: Test_Dataset/Tomato_Late_Blight/fcaf83f1-ddaa-4faf-a4aa-f657f5342474___RS_Late.B 6278.JPG  \n",
            "  inflating: Test_Dataset/Tomato_Late_Blight/fcc13483-8986-4424-87cf-c0afc86576a4___RS_Late.B 5565.JPG  \n",
            "  inflating: Test_Dataset/Tomato_Late_Blight/fcd37e39-9a92-4896-8673-af928a380078___GHLB2 Leaf 8733.JPG  \n",
            "  inflating: Test_Dataset/Tomato_Late_Blight/fce57140-eb13-4c01-8a18-88dc5e8a75dc___RS_Late.B 4923.JPG  \n",
            "  inflating: Test_Dataset/Tomato_Late_Blight/fce9cc3f-88ab-46d6-a26f-c6ff0e7c56e7___RS_Late.B 6372.JPG  \n",
            "  inflating: Test_Dataset/Tomato_Late_Blight/fcfe91fc-c578-4c6d-8fe4-b8ff4cfdb766___GHLB2 Leaf 75.1.JPG  \n",
            "  inflating: Test_Dataset/Tomato_Late_Blight/fd26b445-5839-4337-858c-a91dfdd812cc___GHLB2 Leaf 8743.JPG  \n",
            "  inflating: Test_Dataset/Tomato_Late_Blight/fd40e99e-2c60-42c1-a962-8681814b4e6e___GHLB2 Leaf 120.JPG  \n",
            "  inflating: Test_Dataset/Tomato_Late_Blight/fd99b211-340e-4ac0-9c33-b59e9c594ba2___GHLB2 Leaf 93.JPG  \n",
            "  inflating: Test_Dataset/Tomato_Late_Blight/fdbc3a0b-5da5-452d-a6e4-b5a5e6dc396a___GHLB2 Leaf 8575.JPG  \n",
            "  inflating: Test_Dataset/Tomato_Late_Blight/fddb6641-3785-4971-b44c-3cf0193112c2___GHLB_PS Leaf 43.2 Day 18.jpg  \n",
            "  inflating: Test_Dataset/Tomato_Late_Blight/fe20bf11-9be6-480c-8c99-b7b391ac9653___GHLB_PS Leaf 44.2 Day 18.jpg  \n",
            "  inflating: Test_Dataset/Tomato_Late_Blight/fe416307-5c50-4c9f-96b5-f6e15ef79045___RS_Late.B 4975.JPG  \n",
            "  inflating: Test_Dataset/Tomato_Late_Blight/fee09bd4-a9e3-4174-bd89-4f9b6f911902___GHLB2 Leaf 123.JPG  \n",
            "  inflating: Test_Dataset/Tomato_Late_Blight/ff03c1b7-ae44-4b97-b0c8-ec2c6ca7f4e5___GHLB2ES Leaf 63.1.JPG  \n",
            "  inflating: Test_Dataset/Tomato_Late_Blight/ff3ddd95-9c84-42fb-aef3-eceb2d5b1110___RS_Late.B 4831.JPG  \n",
            "  inflating: Test_Dataset/Tomato_Late_Blight/ff735d59-0023-4c97-853c-ff4083ba96d6___RS_Late.B 6263.JPG  \n",
            "  inflating: Test_Dataset/Tomato_Late_Blight/ff82087d-e992-41fb-a2ec-f726d92e6c58___GHLB_PS Leaf 27 day 13.jpg  \n",
            "  inflating: Test_Dataset/Tomato_Late_Blight/ffe3f6a8-75bb-4584-8c7b-d92c814b5342___GHLB2 Leaf 81.1.JPG  \n",
            "   creating: Test_Dataset/Tomato_Septoria_Leaf_Spot/\n",
            "  inflating: Test_Dataset/Tomato_Septoria_Leaf_Spot/fa1725b1-34e1-49b9-b9e4-13a51757c28e___Matt.S_CG 0784.JPG  \n",
            "  inflating: Test_Dataset/Tomato_Septoria_Leaf_Spot/fab1ca61-1ab4-4e27-9c15-a48eeacd2959___JR_Sept.L.S 2617.JPG  \n",
            "  inflating: Test_Dataset/Tomato_Septoria_Leaf_Spot/fac48215-87c9-4e61-a64e-e6dd868ebc19___Matt.S_CG 7714.JPG  \n",
            "  inflating: Test_Dataset/Tomato_Septoria_Leaf_Spot/fae75392-41a3-4363-b073-32f20bc1cc68___Keller.St_CG 1999.JPG  \n",
            "  inflating: Test_Dataset/Tomato_Septoria_Leaf_Spot/fb69b46d-32bd-4d11-a60f-7eec788523c2___Matt.S_CG 6278.JPG  \n",
            "  inflating: Test_Dataset/Tomato_Septoria_Leaf_Spot/fb6bea39-f361-457c-b73e-fe3b2dbe6259___Matt.S_CG 2786.JPG  \n",
            "  inflating: Test_Dataset/Tomato_Septoria_Leaf_Spot/fb6e1087-a258-49c0-bebf-7785bb51e93e___Keller.St_CG 1836.JPG  \n",
            "  inflating: Test_Dataset/Tomato_Septoria_Leaf_Spot/fb7a129f-477d-4780-aed7-d1355631cb60___Matt.S_CG 0709.JPG  \n",
            "  inflating: Test_Dataset/Tomato_Septoria_Leaf_Spot/fb7b3818-043c-499d-895c-6e12f1de732f___JR_Sept.L.S 8526.JPG  \n",
            "  inflating: Test_Dataset/Tomato_Septoria_Leaf_Spot/fb813bed-8f8e-4e2a-8efb-9bccc1dd3661___Matt.S_CG 6595.JPG  \n",
            "  inflating: Test_Dataset/Tomato_Septoria_Leaf_Spot/fb9766cd-052f-42df-96db-33602cf051e6___Matt.S_CG 6051.JPG  \n",
            "  inflating: Test_Dataset/Tomato_Septoria_Leaf_Spot/fbae6253-c516-4e47-bb84-9ab675ed5d0e___Matt.S_CG 1419.JPG  \n",
            "  inflating: Test_Dataset/Tomato_Septoria_Leaf_Spot/fbbb5586-8b52-4701-9655-3748510df6f8___JR_Sept.L.S 2534.JPG  \n",
            "  inflating: Test_Dataset/Tomato_Septoria_Leaf_Spot/fbbb8eca-408d-476e-b9a0-b0162f66506c___Matt.S_CG 7728.JPG  \n",
            "  inflating: Test_Dataset/Tomato_Septoria_Leaf_Spot/fbd92c9a-47de-431a-b3cb-fb25193b1e09___Keller.St_CG 2045.JPG  \n",
            "  inflating: Test_Dataset/Tomato_Septoria_Leaf_Spot/fc5b136a-102b-454a-8200-ddf85b2a0e52___Keller.St_CG 1898.JPG  \n",
            "  inflating: Test_Dataset/Tomato_Septoria_Leaf_Spot/fc5d2094-6116-423e-9d2a-a0cc1c7b19af___Matt.S_CG 2529.JPG  \n",
            "  inflating: Test_Dataset/Tomato_Septoria_Leaf_Spot/fc6759ac-f4b4-4ab3-81d1-8f0761ebea6a___Keller.St_CG 1857.JPG  \n",
            "  inflating: Test_Dataset/Tomato_Septoria_Leaf_Spot/fc6d77f4-f1c0-4daf-ade7-54bca87bfce9___Matt.S_CG 6596.JPG  \n",
            "  inflating: Test_Dataset/Tomato_Septoria_Leaf_Spot/fc7a8fc7-28d5-4fd5-90d4-8a726063fe46___Matt.S_CG 7565.JPG  \n",
            "  inflating: Test_Dataset/Tomato_Septoria_Leaf_Spot/fc85aff8-ee7e-4da3-b354-3ad6069a3a34___JR_Sept.L.S 8550.JPG  \n",
            "  inflating: Test_Dataset/Tomato_Septoria_Leaf_Spot/fc963fa5-7179-402b-95e7-018c2837d2c1___JR_Sept.L.S 2706.JPG  \n",
            "  inflating: Test_Dataset/Tomato_Septoria_Leaf_Spot/fcbdd052-d481-4db7-ad82-f98bdfc7cc1c___Matt.S_CG 7462.JPG  \n",
            "  inflating: Test_Dataset/Tomato_Septoria_Leaf_Spot/fcc9e28b-c2b2-400d-bd70-7cf4f75d8313___Matt.S_CG 7751.JPG  \n",
            "  inflating: Test_Dataset/Tomato_Septoria_Leaf_Spot/fcd686b5-7726-4faf-89b5-13ae16e5244f___JR_Sept.L.S 2636.JPG  \n",
            "  inflating: Test_Dataset/Tomato_Septoria_Leaf_Spot/fcd7b23f-81f6-4e31-9c8f-66dc04a44f2c___Keller.St_CG 1826.JPG  \n",
            "  inflating: Test_Dataset/Tomato_Septoria_Leaf_Spot/fcda5137-4f0a-4734-89a5-13d5bd119942___Matt.S_CG 7550.JPG  \n",
            "  inflating: Test_Dataset/Tomato_Septoria_Leaf_Spot/fce4cdc2-400f-4afc-ac78-147a63ab43f1___Matt.S_CG 7596.JPG  \n",
            "  inflating: Test_Dataset/Tomato_Septoria_Leaf_Spot/fcf78048-c241-4211-b63c-737d5d9f24b9___Keller.St_CG 1774.JPG  \n",
            "  inflating: Test_Dataset/Tomato_Septoria_Leaf_Spot/fd042aff-4c10-4a6d-880f-cef50afd03b6___Keller.St_CG 1970.JPG  \n",
            "  inflating: Test_Dataset/Tomato_Septoria_Leaf_Spot/fd192f6d-f764-43aa-8ab9-9c1578d55200___JR_Sept.L.S 8466.JPG  \n",
            "  inflating: Test_Dataset/Tomato_Septoria_Leaf_Spot/fd30e236-3bab-4e92-a345-faccaa5d1089___Matt.S_CG 1547.JPG  \n",
            "  inflating: Test_Dataset/Tomato_Septoria_Leaf_Spot/fd605711-4030-4d59-b09b-e993bf081a0a___Matt.S_CG 1492.JPG  \n",
            "  inflating: Test_Dataset/Tomato_Septoria_Leaf_Spot/fd774721-5f04-4293-b462-8301952d140a___Matt.S_CG 6372.JPG  \n",
            "  inflating: Test_Dataset/Tomato_Septoria_Leaf_Spot/fdbf1c22-520c-4537-9f20-76f52fd4ae35___Matt.S_CG 6550.JPG  \n",
            "  inflating: Test_Dataset/Tomato_Septoria_Leaf_Spot/fdd1fcf3-2b4f-44ce-b2f1-7aa4fdba6a63___JR_Sept.L.S 2640.JPG  \n",
            "  inflating: Test_Dataset/Tomato_Septoria_Leaf_Spot/fdf8c942-a8a1-49f1-ad3d-e4b492a7a145___Matt.S_CG 1590.JPG  \n",
            "  inflating: Test_Dataset/Tomato_Septoria_Leaf_Spot/fe18d20c-3e3c-4fbf-9a11-c38228c6eb8e___JR_Sept.L.S 2623.JPG  \n",
            "  inflating: Test_Dataset/Tomato_Septoria_Leaf_Spot/fe20769d-b886-41d5-ada8-bb25ce119493___Matt.S_CG 7770.JPG  \n",
            "  inflating: Test_Dataset/Tomato_Septoria_Leaf_Spot/fe52e26e-bc93-4c6e-a5e1-5301c8b34238___JR_Sept.L.S 2707.JPG  \n",
            "  inflating: Test_Dataset/Tomato_Septoria_Leaf_Spot/fe9173ee-42d5-4192-a664-d0532f0bdbf5___Matt.S_CG 1217.JPG  \n",
            "  inflating: Test_Dataset/Tomato_Septoria_Leaf_Spot/fef6e580-b1a6-4093-829d-73472fc5c9f9___Matt.S_CG 7545.JPG  \n",
            "  inflating: Test_Dataset/Tomato_Septoria_Leaf_Spot/ff26f205-223f-4140-80fc-87478e501904___JR_Sept.L.S 2585.JPG  \n",
            "  inflating: Test_Dataset/Tomato_Septoria_Leaf_Spot/ff38c095-8835-41e6-871d-dd81861f5292___JR_Sept.L.S 2557.JPG  \n",
            "  inflating: Test_Dataset/Tomato_Septoria_Leaf_Spot/ff3ff139-ca11-4e48-b78e-29147bec8ae4___Keller.St_CG 1981.JPG  \n",
            "  inflating: Test_Dataset/Tomato_Septoria_Leaf_Spot/ffbb4b17-6760-48fd-bbfa-70120a53db86___Matt.S_CG 1284.JPG  \n",
            "  inflating: Test_Dataset/Tomato_Septoria_Leaf_Spot/ffcd08b6-6533-422a-a365-271e11890f98___Matt.S_CG 2574.JPG  \n",
            "  inflating: Test_Dataset/Tomato_Septoria_Leaf_Spot/ffd3c6f3-17d3-45f1-a599-2623e111ec71___Matt.S_CG 6493.JPG  \n",
            "  inflating: Test_Dataset/Tomato_Septoria_Leaf_Spot/ffe98ff9-be33-4e8f-82f0-7b7c21b02958___JR_Sept.L.S 8455.JPG  \n",
            "  inflating: Test_Dataset/Tomato_Septoria_Leaf_Spot/fffee500-8469-4c0f-a17d-d95c5516b446___Matt.S_CG 6210.JPG  \n",
            "   creating: Test_Dataset/Tomato_Spider_Mites/\n",
            "  inflating: Test_Dataset/Tomato_Spider_Mites/f9725539-49f8-4152-9c67-cc018fca8c87___Com.G_SpM_FL 1477.JPG  \n",
            "  inflating: Test_Dataset/Tomato_Spider_Mites/fa05ccd2-725d-4664-aaca-1c8b69d73b10___Com.G_SpM_FL 1505.JPG  \n",
            "  inflating: Test_Dataset/Tomato_Spider_Mites/fa0f71aa-5583-4376-ab17-a755cf065aaf___Com.G_SpM_FL 1520.JPG  \n",
            "  inflating: Test_Dataset/Tomato_Spider_Mites/fa497010-52f0-46df-90ab-c40e1d9bb34b___Com.G_SpM_FL 8542.JPG  \n",
            "  inflating: Test_Dataset/Tomato_Spider_Mites/fab1a3c8-938d-474e-beb0-d34a68afdd17___Com.G_SpM_FL 1718.JPG  \n",
            "  inflating: Test_Dataset/Tomato_Spider_Mites/fab1e254-f251-41ee-9e9e-a7ef7c2541ba___Com.G_SpM_FL 1417.JPG  \n",
            "  inflating: Test_Dataset/Tomato_Spider_Mites/fb4d0983-9df9-40be-8b1c-bbd5b9aa3620___Com.G_SpM_FL 1770.JPG  \n",
            "  inflating: Test_Dataset/Tomato_Spider_Mites/fb5551c8-d45c-4c92-8cd2-c389d4268c54___Com.G_SpM_FL 8827.JPG  \n",
            "  inflating: Test_Dataset/Tomato_Spider_Mites/fb5a5218-f752-49c5-8ae2-d54251b8177e___Com.G_SpM_FL 8701.JPG  \n",
            "  inflating: Test_Dataset/Tomato_Spider_Mites/fb798dfa-5365-4180-b4ce-e46ce5aa9de7___Com.G_SpM_FL 9034.JPG  \n",
            "  inflating: Test_Dataset/Tomato_Spider_Mites/fb7d1c6e-6d3c-4f03-b8dd-9c51740ed23a___Com.G_SpM_FL 1681.JPG  \n",
            "  inflating: Test_Dataset/Tomato_Spider_Mites/fbabfa17-0b7e-4c83-bb10-ebcf80515ce7___Com.G_SpM_FL 8741.JPG  \n",
            "  inflating: Test_Dataset/Tomato_Spider_Mites/fbac63f2-cfbc-4c5c-a623-e40b1314fc83___Com.G_SpM_FL 8784.JPG  \n",
            "  inflating: Test_Dataset/Tomato_Spider_Mites/fbba5b32-e839-4253-927c-091963977c55___Com.G_SpM_FL 8930.JPG  \n",
            "  inflating: Test_Dataset/Tomato_Spider_Mites/fbc3d1d5-cffd-4362-83c7-c88f56697060___Com.G_SpM_FL 9532.JPG  \n",
            "  inflating: Test_Dataset/Tomato_Spider_Mites/fbd05119-3078-4761-9b2b-5291e73e85ae___Com.G_SpM_FL 1292.JPG  \n",
            "  inflating: Test_Dataset/Tomato_Spider_Mites/fbd9d6dd-1141-42e8-84d5-7ca48ba4632c___Com.G_SpM_FL 9377.JPG  \n",
            "  inflating: Test_Dataset/Tomato_Spider_Mites/fbee6995-18ee-41b3-802f-5853d4f3f1cd___Com.G_SpM_FL 1717.JPG  \n",
            "  inflating: Test_Dataset/Tomato_Spider_Mites/fc135130-76fe-4249-a36f-8aa02129c7c7___Com.G_SpM_FL 9366.JPG  \n",
            "  inflating: Test_Dataset/Tomato_Spider_Mites/fc6bc29e-ac80-4326-b8aa-94dbcdd1f086___Com.G_SpM_FL 8610.JPG  \n",
            "  inflating: Test_Dataset/Tomato_Spider_Mites/fd2cc1ea-22d9-4c3f-80c6-0c9dc40bdcaa___Com.G_SpM_FL 9006.JPG  \n",
            "  inflating: Test_Dataset/Tomato_Spider_Mites/fd3b6292-6d21-4f4a-969f-9ed064e2c451___Com.G_SpM_FL 1415.JPG  \n",
            "  inflating: Test_Dataset/Tomato_Spider_Mites/fd4f7201-2f81-4650-8681-dd56406417af___Com.G_SpM_FL 1364.JPG  \n",
            "  inflating: Test_Dataset/Tomato_Spider_Mites/fd563dc3-ebae-4a96-a700-2b28a3aee6c8___Com.G_SpM_FL 9383.JPG  \n",
            "  inflating: Test_Dataset/Tomato_Spider_Mites/fd5d5849-18dc-4850-8432-10fa95e9cf33___Com.G_SpM_FL 8417.JPG  \n",
            "  inflating: Test_Dataset/Tomato_Spider_Mites/fd665d64-3079-45da-b719-0e45b9a65a84___Com.G_SpM_FL 1255.JPG  \n",
            "  inflating: Test_Dataset/Tomato_Spider_Mites/fd71ebe5-4ce6-4b19-b71e-cb66b034c123___Com.G_SpM_FL 1282.JPG  \n",
            "  inflating: Test_Dataset/Tomato_Spider_Mites/fdd972d8-a61e-4ae6-b2ae-08c2e3db0900___Com.G_SpM_FL 8856.JPG  \n",
            "  inflating: Test_Dataset/Tomato_Spider_Mites/fddf2531-e2d5-4e98-8b8d-725088227b66___Com.G_SpM_FL 1565.JPG  \n",
            "  inflating: Test_Dataset/Tomato_Spider_Mites/fdff01c6-993c-46d0-8310-7832991220ac___Com.G_SpM_FL 1381.JPG  \n",
            "  inflating: Test_Dataset/Tomato_Spider_Mites/fe0f2a68-c931-4db0-8ff8-9b6f73445e13___Com.G_SpM_FL 1473.JPG  \n",
            "  inflating: Test_Dataset/Tomato_Spider_Mites/fe1c35cf-8f9d-4986-b8b3-6d116bc8b388___Com.G_SpM_FL 8633.JPG  \n",
            "  inflating: Test_Dataset/Tomato_Spider_Mites/fe341b0c-ce8b-4b3e-8031-2db41d446644___Com.G_SpM_FL 8668.JPG  \n",
            "  inflating: Test_Dataset/Tomato_Spider_Mites/fe71b883-7106-4a92-85b6-09e6015ff0ff___Com.G_SpM_FL 9303.JPG  \n",
            "  inflating: Test_Dataset/Tomato_Spider_Mites/fe753434-8f8b-4e59-9a67-ccd9964894aa___Com.G_SpM_FL 8535.JPG  \n",
            "  inflating: Test_Dataset/Tomato_Spider_Mites/fe76e31b-383a-4c3d-a086-3dc951fc18f2___Com.G_SpM_FL 8617.JPG  \n",
            "  inflating: Test_Dataset/Tomato_Spider_Mites/fe791e06-a48b-4967-99e9-083d18d0d91c___Com.G_SpM_FL 8761.JPG  \n",
            "  inflating: Test_Dataset/Tomato_Spider_Mites/fe7f0ec0-35b0-49b0-836e-1fa902ee7723___Com.G_SpM_FL 8739.JPG  \n",
            "  inflating: Test_Dataset/Tomato_Spider_Mites/febac495-362b-45cb-b0fd-c6557ce98c40___Com.G_SpM_FL 1369.JPG  \n",
            "  inflating: Test_Dataset/Tomato_Spider_Mites/fee1de1c-c369-4535-baec-d6104df9a05d___Com.G_SpM_FL 9396.JPG  \n",
            "  inflating: Test_Dataset/Tomato_Spider_Mites/ff0f33d2-9e9f-4b74-861d-a7e0fdf8d248___Com.G_SpM_FL 8511.JPG  \n",
            "  inflating: Test_Dataset/Tomato_Spider_Mites/ff146f2c-dbb7-4da0-aa98-a36351435489___Com.G_SpM_FL 9654.JPG  \n",
            "  inflating: Test_Dataset/Tomato_Spider_Mites/ff20d775-59a6-437c-9039-f72d07aa4484___Com.G_SpM_FL 8524.JPG  \n",
            "  inflating: Test_Dataset/Tomato_Spider_Mites/ff6346ca-227b-4cb4-a350-0941048744fa___Com.G_SpM_FL 9338.JPG  \n",
            "  inflating: Test_Dataset/Tomato_Spider_Mites/ff9a52b5-b200-4f23-9e0d-629b1a0e89db___Com.G_SpM_FL 8634.JPG  \n",
            "  inflating: Test_Dataset/Tomato_Spider_Mites/ffb00771-1462-4c9d-962b-7aaa7e8d5a51___Com.G_SpM_FL 1411.JPG  \n",
            "  inflating: Test_Dataset/Tomato_Spider_Mites/ffb50767-1893-4379-ba42-8af6d8030057___Com.G_SpM_FL 8854.JPG  \n",
            "  inflating: Test_Dataset/Tomato_Spider_Mites/ffcfa32d-4506-49ed-9e35-972d5cbad0b8___Com.G_SpM_FL 8450.JPG  \n",
            "  inflating: Test_Dataset/Tomato_Spider_Mites/fff3aeaf-d4ae-4f3a-86d9-79237d07270f___Com.G_SpM_FL 9349.JPG  \n",
            "  inflating: Test_Dataset/Tomato_Spider_Mites/fff8949b-3721-4f42-a489-8d39753fe7bb___Com.G_SpM_FL 8656.JPG  \n",
            "   creating: Test_Dataset/Tomato_Target_Spot/\n",
            "  inflating: Test_Dataset/Tomato_Target_Spot/f100309c-4853-440e-9ec4-c1143e637dd3___Com.G_TgS_FL 0791.JPG  \n",
            "  inflating: Test_Dataset/Tomato_Target_Spot/f1124062-9fa1-4f3d-80b4-8f79c92414ba___Com.G_TgS_FL 0865.JPG  \n",
            "  inflating: Test_Dataset/Tomato_Target_Spot/f249d82a-14ab-40dc-92d6-24a4a0f82fc7___Com.G_TgS_FL 0944.JPG  \n",
            "  inflating: Test_Dataset/Tomato_Target_Spot/f252ed58-7e35-499e-861a-c94005d7df94___Com.G_TgS_FL 7912.JPG  \n",
            "  inflating: Test_Dataset/Tomato_Target_Spot/f276f16a-6fd5-4822-b5df-d035633a28d2___Com.G_TgS_FL 9980.JPG  \n",
            "  inflating: Test_Dataset/Tomato_Target_Spot/f29243aa-77d2-4ef6-bb75-0c2379698c65___Com.G_TgS_FL 8353.JPG  \n",
            "  inflating: Test_Dataset/Tomato_Target_Spot/f2977510-dab7-46cf-9953-2f898c61151f___Com.G_TgS_FL 0724.JPG  \n",
            "  inflating: Test_Dataset/Tomato_Target_Spot/f3407e07-398a-44b7-b03f-dfe1f18fa2d2___Com.G_TgS_FL 0912.JPG  \n",
            "  inflating: Test_Dataset/Tomato_Target_Spot/f36508ae-5375-40da-b127-17f3ee0fd837___Com.G_TgS_FL 8369.JPG  \n",
            "  inflating: Test_Dataset/Tomato_Target_Spot/f3878705-b6ce-448d-868c-5c8016047e57___Com.G_TgS_FL 9736.JPG  \n",
            "  inflating: Test_Dataset/Tomato_Target_Spot/f5034515-2e6f-43e0-abde-7f62d165b750___Com.G_TgS_FL 8127.JPG  \n",
            "  inflating: Test_Dataset/Tomato_Target_Spot/f517602e-150c-45bc-9f16-cdd43b6198cf___Com.G_TgS_FL 0742.JPG  \n",
            "  inflating: Test_Dataset/Tomato_Target_Spot/f551fe31-b0e2-4526-b22d-4e3dc1181efa___Com.G_TgS_FL 0052.JPG  \n",
            "  inflating: Test_Dataset/Tomato_Target_Spot/f561f1f2-8d07-4cfc-b380-ccc3c303f5af___Com.G_TgS_FL 8209.JPG  \n",
            "  inflating: Test_Dataset/Tomato_Target_Spot/f674c52c-b90b-49b6-b044-bae00441a531___Com.G_TgS_FL 0953.JPG  \n",
            "  inflating: Test_Dataset/Tomato_Target_Spot/f7356c7c-af6b-4bb6-b842-dcd446f981e9___Com.G_TgS_FL 8047.JPG  \n",
            "  inflating: Test_Dataset/Tomato_Target_Spot/f7509e1d-28fb-40ce-9002-bfa0a6a53b67___Com.G_TgS_FL 8002.JPG  \n",
            "  inflating: Test_Dataset/Tomato_Target_Spot/f843904d-9c32-47e5-acf9-21cee1b600e5___Com.G_TgS_FL 8289.JPG  \n",
            "  inflating: Test_Dataset/Tomato_Target_Spot/f845018e-06b9-43d7-afb1-a67ec0748a79___Com.G_TgS_FL 1089.JPG  \n",
            "  inflating: Test_Dataset/Tomato_Target_Spot/f845fbab-129e-489a-b5b4-ba7a14679972___Com.G_TgS_FL 1130.JPG  \n",
            "  inflating: Test_Dataset/Tomato_Target_Spot/f9769c47-1f95-49f2-aed6-7b50d15bc9c3___Com.G_TgS_FL 0026.JPG  \n",
            "  inflating: Test_Dataset/Tomato_Target_Spot/f9986a85-5598-41ef-80f2-98adb409adfe___Com.G_TgS_FL 0789.JPG  \n",
            "  inflating: Test_Dataset/Tomato_Target_Spot/fa0e012a-0bb8-4b98-9a4b-b414d64caca4___Com.G_TgS_FL 8232.JPG  \n",
            "  inflating: Test_Dataset/Tomato_Target_Spot/fa4ca95f-7e31-42d0-9b16-b2b4fcfdae59___Com.G_TgS_FL 7974.JPG  \n",
            "  inflating: Test_Dataset/Tomato_Target_Spot/fa4f01ef-5a7a-4963-bd1a-57b64691c0b0___Com.G_TgS_FL 8290.JPG  \n",
            "  inflating: Test_Dataset/Tomato_Target_Spot/fa844a5e-8301-40cb-a39f-bc83b935d008___Com.G_TgS_FL 9728.JPG  \n",
            "  inflating: Test_Dataset/Tomato_Target_Spot/fa98bbb6-2231-4489-ab05-1eeb55bae882___Com.G_TgS_FL 8105.JPG  \n",
            "  inflating: Test_Dataset/Tomato_Target_Spot/fac15e88-8950-4637-9bdc-26bca1e3ae8e___Com.G_TgS_FL 8169.JPG  \n",
            "  inflating: Test_Dataset/Tomato_Target_Spot/facfaefa-628d-4e71-8174-9aa24d43724d___Com.G_TgS_FL 9767.JPG  \n",
            "  inflating: Test_Dataset/Tomato_Target_Spot/faeadae6-ed49-4445-8d6d-1d56d3d22d02___Com.G_TgS_FL 7945.JPG  \n",
            "  inflating: Test_Dataset/Tomato_Target_Spot/faf529ef-0d4a-4f6d-9a17-27498eae98a5___Com.G_TgS_FL 8208.JPG  \n",
            "  inflating: Test_Dataset/Tomato_Target_Spot/fb0c1b35-063e-4aa1-b381-fc22c0da59f0___Com.G_TgS_FL 9870.JPG  \n",
            "  inflating: Test_Dataset/Tomato_Target_Spot/fb967f21-6c02-4bd3-9145-ee91db7eb2c8___Com.G_TgS_FL 8059.JPG  \n",
            "  inflating: Test_Dataset/Tomato_Target_Spot/fc089812-4537-413d-bade-e028fe9edac4___Com.G_TgS_FL 8255.JPG  \n",
            "  inflating: Test_Dataset/Tomato_Target_Spot/fc7e6749-85f1-4359-b48f-23e879d6c093___Com.G_TgS_FL 9933.JPG  \n",
            "  inflating: Test_Dataset/Tomato_Target_Spot/fcc525e6-8f18-4b9f-bc77-e5c26cebf974___Com.G_TgS_FL 7925.JPG  \n",
            "  inflating: Test_Dataset/Tomato_Target_Spot/fcdf476f-a70b-4480-be9b-ceb041a45761___Com.G_TgS_FL 9935.JPG  \n",
            "  inflating: Test_Dataset/Tomato_Target_Spot/fd0c3abc-58f6-4aea-8d0e-7bcb52f996fa___Com.G_TgS_FL 8068.JPG  \n",
            "  inflating: Test_Dataset/Tomato_Target_Spot/fd53a3e2-4153-4b4a-9c27-3535125626c8___Com.G_TgS_FL 9962.JPG  \n",
            "  inflating: Test_Dataset/Tomato_Target_Spot/fd5b634a-0205-4d0b-b584-4638245fb276___Com.G_TgS_FL 0648.JPG  \n",
            "  inflating: Test_Dataset/Tomato_Target_Spot/fd5fba19-588d-4053-beef-c77be7b3db95___Com.G_TgS_FL 8044.JPG  \n",
            "  inflating: Test_Dataset/Tomato_Target_Spot/fddfa96b-42a0-43f1-bbee-eac32d7caff7___Com.G_TgS_FL 9820.JPG  \n",
            "  inflating: Test_Dataset/Tomato_Target_Spot/fe4f28b2-dbcc-438f-88cf-e94e17a37ac4___Com.G_TgS_FL 0900.JPG  \n",
            "  inflating: Test_Dataset/Tomato_Target_Spot/feb1b0d0-aa78-4ba8-93a1-384229fc92fd___Com.G_TgS_FL 0715.JPG  \n",
            "  inflating: Test_Dataset/Tomato_Target_Spot/fec3ef0e-de4a-4261-b593-5c1571c6e890___Com.G_TgS_FL 8173.JPG  \n",
            "  inflating: Test_Dataset/Tomato_Target_Spot/fef53f75-6350-4320-b510-5e11e21becab___Com.G_TgS_FL 0692.JPG  \n",
            "  inflating: Test_Dataset/Tomato_Target_Spot/ff8c5027-32f0-46f4-a719-88e1be5eb4a7___Com.G_TgS_FL 7980.JPG  \n",
            "  inflating: Test_Dataset/Tomato_Target_Spot/ffb9a28e-002f-404b-ac71-7dd3d45653df___Com.G_TgS_FL 0709.JPG  \n",
            "  inflating: Test_Dataset/Tomato_Target_Spot/ffd1fc2d-9520-4a02-a4aa-8bed12f1d345___Com.G_TgS_FL 8178.JPG  \n",
            "  inflating: Test_Dataset/Tomato_Target_Spot/ffde083c-5f04-4a73-8c9c-3cf01fa3c401___Com.G_TgS_FL 9871.JPG  \n",
            "   creating: Test_Dataset/Tomato_Yellow_Leaf/\n",
            "  inflating: Test_Dataset/Tomato_Yellow_Leaf/49909493-8fb3-4799-af5d-fbd22bba5696___UF.GRC_YLCV_Lab 01398.JPG  \n",
            "  inflating: Test_Dataset/Tomato_Yellow_Leaf/50756664-8384-49db-939c-fc683e7cce15___UF.GRC_YLCV_Lab 03268.JPG  \n",
            "  inflating: Test_Dataset/Tomato_Yellow_Leaf/51749001-e339-47a9-bcdf-4cd9905ba7b2___YLCV_NREC 2720.JPG  \n",
            "  inflating: Test_Dataset/Tomato_Yellow_Leaf/53251828-7d15-4c0d-8f67-795b69326594___YLCV_GCREC 2270.JPG  \n",
            "  inflating: Test_Dataset/Tomato_Yellow_Leaf/53898660-51c9-42de-99c0-381c38dc02e6___UF.GRC_YLCV_Lab 02778.JPG  \n",
            "  inflating: Test_Dataset/Tomato_Yellow_Leaf/54447643-06bc-4315-be51-0e8126fae338___UF.GRC_YLCV_Lab 02262.JPG  \n",
            "  inflating: Test_Dataset/Tomato_Yellow_Leaf/56405635-5a4f-431f-a6ac-f279b8478a89___UF.GRC_YLCV_Lab 02221.JPG  \n",
            "  inflating: Test_Dataset/Tomato_Yellow_Leaf/59645145-d51c-47d1-845f-33e5b112aebe___UF.GRC_YLCV_Lab 01298.JPG  \n",
            "  inflating: Test_Dataset/Tomato_Yellow_Leaf/61600503-7bb9-4592-88df-2aa4b888bff8___YLCV_NREC 2107.JPG  \n",
            "  inflating: Test_Dataset/Tomato_Yellow_Leaf/61714072-679d-4c31-8b0b-65b3d1ceab0a___YLCV_GCREC 2481.JPG  \n",
            "  inflating: Test_Dataset/Tomato_Yellow_Leaf/64009556-6711-4fcd-9235-17d74152dc0f___YLCV_GCREC 2659.JPG  \n",
            "  inflating: Test_Dataset/Tomato_Yellow_Leaf/64434574-e920-404f-b2a4-28677eb527ae___YLCV_NREC 0258.JPG  \n",
            "  inflating: Test_Dataset/Tomato_Yellow_Leaf/64469603-f180-4d82-afb6-eb262beabbab___UF.GRC_YLCV_Lab 03143.JPG  \n",
            "  inflating: Test_Dataset/Tomato_Yellow_Leaf/64598994-2818-4d04-93b8-351980d5a7c5___YLCV_GCREC 2458.JPG  \n",
            "  inflating: Test_Dataset/Tomato_Yellow_Leaf/64618101-9581-4958-9760-6cfd10959fbf___UF.GRC_YLCV_Lab 02950.JPG  \n",
            "  inflating: Test_Dataset/Tomato_Yellow_Leaf/65314250-0d10-4f56-8592-38bb55534d4d___UF.GRC_YLCV_Lab 03206.JPG  \n",
            "  inflating: Test_Dataset/Tomato_Yellow_Leaf/65801388-466c-42f5-b517-5c4a170b8f43___UF.GRC_YLCV_Lab 02428.JPG  \n",
            "  inflating: Test_Dataset/Tomato_Yellow_Leaf/67206390-2511-488b-82a6-7e3c01b37987___YLCV_NREC 0071.JPG  \n",
            "  inflating: Test_Dataset/Tomato_Yellow_Leaf/67727242-9c27-4ab5-8b7b-2ae2a33080c8___YLCV_NREC 2750.JPG  \n",
            "  inflating: Test_Dataset/Tomato_Yellow_Leaf/67907001-4326-4dcf-b60a-d9a59ffeb767___YLCV_GCREC 2167.JPG  \n",
            "  inflating: Test_Dataset/Tomato_Yellow_Leaf/68243147-87d2-4a8e-96ba-bf5388d2ea51___YLCV_GCREC 5466.JPG  \n",
            "  inflating: Test_Dataset/Tomato_Yellow_Leaf/69028415-9dfb-4d95-af48-9e6b4bcb35fd___YLCV_GCREC 5202.JPG  \n",
            "  inflating: Test_Dataset/Tomato_Yellow_Leaf/69077745-ef0b-4a8a-9f8a-5fc046a2b9d0___YLCV_NREC 2433.JPG  \n",
            "  inflating: Test_Dataset/Tomato_Yellow_Leaf/69369114-ce25-4be1-b645-e34a0d7bb649___YLCV_GCREC 5495.JPG  \n",
            "  inflating: Test_Dataset/Tomato_Yellow_Leaf/69853336-0ccf-4fdc-8602-774279ecbce6___YLCV_GCREC 2836.JPG  \n",
            "  inflating: Test_Dataset/Tomato_Yellow_Leaf/71429702-60e5-4716-a65d-8ff474c67939___YLCV_NREC 2201.JPG  \n",
            "  inflating: Test_Dataset/Tomato_Yellow_Leaf/71854615-7918-4b3a-bb7d-16c8039bf21c___YLCV_GCREC 5473.JPG  \n",
            "  inflating: Test_Dataset/Tomato_Yellow_Leaf/72003229-f8aa-4e84-b62e-3fde4a1651ed___UF.GRC_YLCV_Lab 02963.JPG  \n",
            "  inflating: Test_Dataset/Tomato_Yellow_Leaf/74523444-1909-4f6e-a643-05857aa94a74___UF.GRC_YLCV_Lab 09381.JPG  \n",
            "  inflating: Test_Dataset/Tomato_Yellow_Leaf/75021301-584e-4f18-af3f-967e4155fc1a___YLCV_GCREC 5160.JPG  \n",
            "  inflating: Test_Dataset/Tomato_Yellow_Leaf/75422784-dbde-468f-b927-b19a56aa6df0___YLCV_GCREC 5334.JPG  \n",
            "  inflating: Test_Dataset/Tomato_Yellow_Leaf/75752767-df17-4f29-b45a-8b1034ffe257___UF.GRC_YLCV_Lab 03155.JPG  \n",
            "  inflating: Test_Dataset/Tomato_Yellow_Leaf/76835334-77ef-4b54-8cfe-0fd6c2733ab8___YLCV_NREC 2774.JPG  \n",
            "  inflating: Test_Dataset/Tomato_Yellow_Leaf/77139872-d443-4ef0-966c-1e117e1d9df7___YLCV_GCREC 5523.JPG  \n",
            "  inflating: Test_Dataset/Tomato_Yellow_Leaf/78026401-90de-477b-8c6d-e9bde6f41f41___UF.GRC_YLCV_Lab 02185.JPG  \n",
            "  inflating: Test_Dataset/Tomato_Yellow_Leaf/78182937-b677-4607-b4d2-90bd5c9603bb___UF.GRC_YLCV_Lab 02132.JPG  \n",
            "  inflating: Test_Dataset/Tomato_Yellow_Leaf/78690647-14e6-49d6-bca6-7bcf80b95fba___YLCV_GCREC 2267.JPG  \n",
            "  inflating: Test_Dataset/Tomato_Yellow_Leaf/79970491-7037-4cf0-881d-f0cefae58155___UF.GRC_YLCV_Lab 09407.JPG  \n",
            "  inflating: Test_Dataset/Tomato_Yellow_Leaf/80274194-0aa0-48a1-add7-48c8d728300c___YLCV_NREC 0144.JPG  \n",
            "  inflating: Test_Dataset/Tomato_Yellow_Leaf/81430658-7687-4bdc-9b1c-f2563606d304___YLCV_NREC 0097.JPG  \n",
            "  inflating: Test_Dataset/Tomato_Yellow_Leaf/81540030-4132-4b95-803e-eef54ed6a842___YLCV_NREC 0137.JPG  \n",
            "  inflating: Test_Dataset/Tomato_Yellow_Leaf/86089870-b24b-4509-abc3-f6c50fd07e49___UF.GRC_YLCV_Lab 01677.JPG  \n",
            "  inflating: Test_Dataset/Tomato_Yellow_Leaf/86665379-33ec-44c1-96c2-8de18bba4ba9___UF.GRC_YLCV_Lab 09367.JPG  \n",
            "  inflating: Test_Dataset/Tomato_Yellow_Leaf/88048288-a940-4ca0-8cd2-26aaf09ef008___YLCV_GCREC 2319.JPG  \n",
            "  inflating: Test_Dataset/Tomato_Yellow_Leaf/88323382-24d3-4441-8ce8-30a00e7c3b80___YLCV_GCREC 2938.JPG  \n",
            "  inflating: Test_Dataset/Tomato_Yellow_Leaf/88614302-e6d2-4327-a4fb-a3db9c9ea72e___YLCV_NREC 2861.JPG  \n",
            "  inflating: Test_Dataset/Tomato_Yellow_Leaf/89342400-1fb6-4438-a128-7eecb1ec7c21___UF.GRC_YLCV_Lab 09565.JPG  \n",
            "  inflating: Test_Dataset/Tomato_Yellow_Leaf/90391022-d47a-49fa-a95b-48612ec23288___YLCV_NREC 2509.JPG  \n",
            "  inflating: Test_Dataset/Tomato_Yellow_Leaf/91009015-aa61-4d9c-8a52-37131428e04f___YLCV_GCREC 2471.JPG  \n",
            "  inflating: Test_Dataset/Tomato_Yellow_Leaf/96704227-fc47-4936-b22a-cea82babc0c4___UF.GRC_YLCV_Lab 02426.JPG  \n"
          ],
          "name": "stdout"
        }
      ]
    },
    {
      "cell_type": "code",
      "metadata": {
        "id": "aR9wVYMrZvx0",
        "colab_type": "code",
        "colab": {}
      },
      "source": [
        "img_height = 256\n",
        "img_width = 256\n",
        "batch_dim = -1\n",
        "\n",
        "if K.image_data_format() == 'channels_first':\n",
        "    input_shape = (3, img_height, img_width)\n",
        "    batch_dim = 1\n",
        "else:\n",
        "    input_shape = (img_height, img_width, 3)"
      ],
      "execution_count": 7,
      "outputs": []
    },
    {
      "cell_type": "code",
      "metadata": {
        "id": "MCilzAbbYeim",
        "colab_type": "code",
        "colab": {
          "base_uri": "https://localhost:8080/",
          "height": 935
        },
        "outputId": "60dffb70-b72c-43dd-e032-a595878f396b"
      },
      "source": [
        "model = Sequential()\n",
        "model.add(Conv2D(32, (3, 3), input_shape=input_shape, bias_regularizer=keras.regularizers.l1_l2(l1=0.1, l2=0.01), activation='relu'))\n",
        "model.add(BatchNormalization(axis=batch_dim))\n",
        "model.add(MaxPooling2D(pool_size=(2, 2)))\n",
        "\n",
        "model.add(Conv2D(64, (3, 3), bias_regularizer=keras.regularizers.l1_l2(l1=0.1, l2=0.01), activation='relu'))\n",
        "model.add(BatchNormalization(axis=batch_dim))\n",
        "model.add(MaxPooling2D(pool_size=(2, 2)))\n",
        "\n",
        "model.add(Conv2D(128, (3, 3), bias_regularizer=keras.regularizers.l1_l2(l1=0.1, l2=0.01), activation='relu'))\n",
        "model.add(BatchNormalization(axis=batch_dim))\n",
        "model.add(MaxPooling2D(pool_size=(2, 2)))\n",
        "\n",
        "model.add(Conv2D(128, (3, 3), bias_regularizer=keras.regularizers.l1_l2(l1=0.1, l2=0.01), activation='relu'))\n",
        "model.add(BatchNormalization(axis=batch_dim))\n",
        "model.add(MaxPooling2D(pool_size=(2, 2)))\n",
        "\n",
        "model.add(Conv2D(64, (3, 3), bias_regularizer=keras.regularizers.l1_l2(l1=0.1, l2=0.01), activation='relu'))\n",
        "model.add(BatchNormalization(axis=batch_dim))\n",
        "model.add(MaxPooling2D(pool_size=(2, 2)))\n",
        "\n",
        "model.add(Flatten())\n",
        "model.add(Dense(512, activation='relu'))\n",
        "model.add(BatchNormalization(axis=batch_dim))\n",
        "\n",
        "model.add(Dense(64, activation='relu'))\n",
        "model.add(BatchNormalization(axis=batch_dim))\n",
        "model.add(Dropout(0.2))\n",
        "\n",
        "model.add(Dense(8))\n",
        "model.add(Activation(activation='softmax'))\n",
        "\n",
        "model.summary()"
      ],
      "execution_count": 8,
      "outputs": [
        {
          "output_type": "stream",
          "text": [
            "Model: \"sequential_2\"\n",
            "_________________________________________________________________\n",
            "Layer (type)                 Output Shape              Param #   \n",
            "=================================================================\n",
            "conv2d_6 (Conv2D)            (None, 254, 254, 32)      896       \n",
            "_________________________________________________________________\n",
            "batch_normalization_8 (Batch (None, 254, 254, 32)      128       \n",
            "_________________________________________________________________\n",
            "max_pooling2d_6 (MaxPooling2 (None, 127, 127, 32)      0         \n",
            "_________________________________________________________________\n",
            "conv2d_7 (Conv2D)            (None, 125, 125, 64)      18496     \n",
            "_________________________________________________________________\n",
            "batch_normalization_9 (Batch (None, 125, 125, 64)      256       \n",
            "_________________________________________________________________\n",
            "max_pooling2d_7 (MaxPooling2 (None, 62, 62, 64)        0         \n",
            "_________________________________________________________________\n",
            "conv2d_8 (Conv2D)            (None, 60, 60, 128)       73856     \n",
            "_________________________________________________________________\n",
            "batch_normalization_10 (Batc (None, 60, 60, 128)       512       \n",
            "_________________________________________________________________\n",
            "max_pooling2d_8 (MaxPooling2 (None, 30, 30, 128)       0         \n",
            "_________________________________________________________________\n",
            "conv2d_9 (Conv2D)            (None, 28, 28, 128)       147584    \n",
            "_________________________________________________________________\n",
            "batch_normalization_11 (Batc (None, 28, 28, 128)       512       \n",
            "_________________________________________________________________\n",
            "max_pooling2d_9 (MaxPooling2 (None, 14, 14, 128)       0         \n",
            "_________________________________________________________________\n",
            "conv2d_10 (Conv2D)           (None, 12, 12, 64)        73792     \n",
            "_________________________________________________________________\n",
            "batch_normalization_12 (Batc (None, 12, 12, 64)        256       \n",
            "_________________________________________________________________\n",
            "max_pooling2d_10 (MaxPooling (None, 6, 6, 64)          0         \n",
            "_________________________________________________________________\n",
            "flatten_2 (Flatten)          (None, 2304)              0         \n",
            "_________________________________________________________________\n",
            "dense_4 (Dense)              (None, 512)               1180160   \n",
            "_________________________________________________________________\n",
            "batch_normalization_13 (Batc (None, 512)               2048      \n",
            "_________________________________________________________________\n",
            "dense_5 (Dense)              (None, 64)                32832     \n",
            "_________________________________________________________________\n",
            "batch_normalization_14 (Batc (None, 64)                256       \n",
            "_________________________________________________________________\n",
            "dropout_2 (Dropout)          (None, 64)                0         \n",
            "_________________________________________________________________\n",
            "dense_6 (Dense)              (None, 8)                 520       \n",
            "_________________________________________________________________\n",
            "activation_2 (Activation)    (None, 8)                 0         \n",
            "=================================================================\n",
            "Total params: 1,532,104\n",
            "Trainable params: 1,530,120\n",
            "Non-trainable params: 1,984\n",
            "_________________________________________________________________\n"
          ],
          "name": "stdout"
        }
      ]
    },
    {
      "cell_type": "code",
      "metadata": {
        "id": "05vEe7djZ3kG",
        "colab_type": "code",
        "colab": {}
      },
      "source": [
        "model.load_weights('plants (2).h5')"
      ],
      "execution_count": 9,
      "outputs": []
    },
    {
      "cell_type": "code",
      "metadata": {
        "id": "R9e_U6qh5sEH",
        "colab_type": "code",
        "colab": {}
      },
      "source": [
        ""
      ],
      "execution_count": 9,
      "outputs": []
    },
    {
      "cell_type": "code",
      "metadata": {
        "id": "ArHix85B2gOu",
        "colab_type": "code",
        "colab": {
          "base_uri": "https://localhost:8080/",
          "height": 71
        },
        "outputId": "b08e002b-653e-430d-adfb-d055b6df21fa"
      },
      "source": [
        "preds = []\n",
        "\n",
        "test_data_dir = 'Test_Dataset'\n",
        "\n",
        "dirs = sorted(os.listdir(test_data_dir))\n",
        "\n",
        "for class_index in range(len(dirs)):\n",
        "  class_path = os.path.join(test_data_dir, dirs[class_index])\n",
        "  files = sorted(os.listdir(class_path))\n",
        "\n",
        "  for f in files:\n",
        "    image_path = os.path.join(class_path, f)\n",
        "    image_pred = image.load_img(image_path, target_size=(img_height, img_width))\n",
        "\n",
        "    image_pred = image.img_to_array(image_pred) / 256\n",
        "    image_pred = np.expand_dims(image_pred, axis=0)\n",
        "\n",
        "    result = model.predict_classes(image_pred)\n",
        "\n",
        "    preds.append(result[0])\n",
        "  \n",
        "  class_index += 1\n"
      ],
      "execution_count": 10,
      "outputs": [
        {
          "output_type": "stream",
          "text": [
            "WARNING:tensorflow:From /tensorflow-1.15.2/python3.6/keras/backend/tensorflow_backend.py:422: The name tf.global_variables is deprecated. Please use tf.compat.v1.global_variables instead.\n",
            "\n"
          ],
          "name": "stdout"
        }
      ]
    },
    {
      "cell_type": "code",
      "metadata": {
        "id": "YPypdMKE6Q7W",
        "colab_type": "code",
        "colab": {
          "base_uri": "https://localhost:8080/",
          "height": 170
        },
        "outputId": "02b46b5f-fd34-425f-be26-63270e4b1198"
      },
      "source": [
        "test_datagen = ImageDataGenerator(rescale=1./255)\n",
        "\n",
        "test_generator = test_datagen.flow_from_directory(test_data_dir, target_size=(img_height, img_width), class_mode='categorical')\n",
        "\n",
        "test_generator.class_indices"
      ],
      "execution_count": 11,
      "outputs": [
        {
          "output_type": "stream",
          "text": [
            "Found 400 images belonging to 8 classes.\n"
          ],
          "name": "stdout"
        },
        {
          "output_type": "execute_result",
          "data": {
            "text/plain": [
              "{'Tomato_Bacterial_Spot': 0,\n",
              " 'Tomato_Early_Blight': 1,\n",
              " 'Tomato_Healthy': 2,\n",
              " 'Tomato_Late_Blight': 3,\n",
              " 'Tomato_Septoria_Leaf_Spot': 4,\n",
              " 'Tomato_Spider_Mites': 5,\n",
              " 'Tomato_Target_Spot': 6,\n",
              " 'Tomato_Yellow_Leaf': 7}"
            ]
          },
          "metadata": {
            "tags": []
          },
          "execution_count": 11
        }
      ]
    },
    {
      "cell_type": "code",
      "metadata": {
        "id": "66h3M1qR-Yx4",
        "colab_type": "code",
        "colab": {
          "base_uri": "https://localhost:8080/",
          "height": 153
        },
        "outputId": "f1373f00-af4e-40af-f938-b21fc64e0070"
      },
      "source": [
        "target_names = list(test_generator.class_indices.keys())\n",
        "target_names"
      ],
      "execution_count": 12,
      "outputs": [
        {
          "output_type": "execute_result",
          "data": {
            "text/plain": [
              "['Tomato_Bacterial_Spot',\n",
              " 'Tomato_Early_Blight',\n",
              " 'Tomato_Healthy',\n",
              " 'Tomato_Late_Blight',\n",
              " 'Tomato_Septoria_Leaf_Spot',\n",
              " 'Tomato_Spider_Mites',\n",
              " 'Tomato_Target_Spot',\n",
              " 'Tomato_Yellow_Leaf']"
            ]
          },
          "metadata": {
            "tags": []
          },
          "execution_count": 12
        }
      ]
    },
    {
      "cell_type": "code",
      "metadata": {
        "id": "iH8Fv5pL6F8M",
        "colab_type": "code",
        "colab": {}
      },
      "source": [
        "con_mat = confusion_matrix(test_generator.classes, preds)"
      ],
      "execution_count": 13,
      "outputs": []
    },
    {
      "cell_type": "code",
      "metadata": {
        "id": "QTLx48eO-Xwq",
        "colab_type": "code",
        "colab": {
          "base_uri": "https://localhost:8080/",
          "height": 412
        },
        "outputId": "f459d4ee-001c-42a7-94a0-a9f82d3581f2"
      },
      "source": [
        "df_cm = pd.DataFrame(con_mat, columns=target_names, index=target_names)\n",
        "sn.heatmap(df_cm, annot=True)"
      ],
      "execution_count": 14,
      "outputs": [
        {
          "output_type": "execute_result",
          "data": {
            "text/plain": [
              "<matplotlib.axes._subplots.AxesSubplot at 0x7f133732ccc0>"
            ]
          },
          "metadata": {
            "tags": []
          },
          "execution_count": 14
        },
        {
          "output_type": "display_data",
          "data": {
            "image/png": "[encoded data removed]",
            "text/plain": [
              "<Figure size 432x288 with 2 Axes>"
            ]
          },
          "metadata": {
            "tags": [],
            "needs_background": "light"
          }
        }
      ]
    },
    {
      "cell_type": "code",
      "metadata": {
        "id": "KLKiU1uPfLsA",
        "colab_type": "code",
        "colab": {
          "base_uri": "https://localhost:8080/",
          "height": 272
        },
        "outputId": "ef668f08-4ac3-44d2-d4c0-472aab7a3500"
      },
      "source": [
        "print(classification_report(test_generator.classes, preds, target_names=target_names))"
      ],
      "execution_count": 15,
      "outputs": [
        {
          "output_type": "stream",
          "text": [
            "                           precision    recall  f1-score   support\n",
            "\n",
            "    Tomato_Bacterial_Spot       1.00      0.98      0.99        50\n",
            "      Tomato_Early_Blight       1.00      1.00      1.00        50\n",
            "           Tomato_Healthy       0.96      1.00      0.98        50\n",
            "       Tomato_Late_Blight       1.00      0.96      0.98        50\n",
            "Tomato_Septoria_Leaf_Spot       0.94      1.00      0.97        50\n",
            "      Tomato_Spider_Mites       0.98      1.00      0.99        50\n",
            "       Tomato_Target_Spot       0.98      0.92      0.95        50\n",
            "       Tomato_Yellow_Leaf       1.00      1.00      1.00        50\n",
            "\n",
            "                 accuracy                           0.98       400\n",
            "                macro avg       0.98      0.98      0.98       400\n",
            "             weighted avg       0.98      0.98      0.98       400\n",
            "\n"
          ],
          "name": "stdout"
        }
      ]
    },
    {
      "cell_type": "code",
      "metadata": {
        "id": "k778bGYG-S6r",
        "colab_type": "code",
        "colab": {}
      },
      "source": [
        ""
      ],
      "execution_count": 15,
      "outputs": []
    }
  ]
}