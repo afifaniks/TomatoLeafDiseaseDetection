{
  "nbformat": 4,
  "nbformat_minor": 0,
  "metadata": {
    "colab": {
      "name": "Leaf Disease Detection.ipynb",
      "provenance": [],
      "collapsed_sections": [],
      "toc_visible": true,
      "include_colab_link": true
    },
    "kernelspec": {
      "name": "python3",
      "display_name": "Python 3"
    },
    "accelerator": "GPU"
  },
  "cells": [
    {
      "cell_type": "markdown",
      "metadata": {
        "id": "view-in-github",
        "colab_type": "text"
      },
      "source": [
        "<a href=\"https://colab.research.google.com/github/afifaniks/TomatoLeafDiseaseDetection/blob/master/Leaf_Disease_Detection.ipynb\" target=\"_parent\"><img src=\"https://colab.research.google.com/assets/colab-badge.svg\" alt=\"Open In Colab\"/></a>"
      ]
    },
    {
      "cell_type": "markdown",
      "metadata": {
        "id": "lI1eG8_nUw_g",
        "colab_type": "text"
      },
      "source": [
        "# **TLNet**: Tomato Leaf Disease Detection\n",
        "Author: [Afif Al Mamun](https://afifaniks.me) <br>\n",
        "Date: September, 2020"
      ]
    },
    {
      "cell_type": "markdown",
      "metadata": {
        "id": "QsdoIlbSDVfe",
        "colab_type": "text"
      },
      "source": [
        "# Loading Data"
      ]
    },
    {
      "cell_type": "code",
      "metadata": {
        "id": "v1uhn8nmZso5",
        "colab_type": "code",
        "colab": {
          "base_uri": "https://localhost:8080/",
          "height": 34
        },
        "outputId": "9f305666-f131-4eed-b27f-85a122cba82d"
      },
      "source": [
        "from google.colab import drive\n",
        "drive.mount('/content/drive')"
      ],
      "execution_count": 38,
      "outputs": [
        {
          "output_type": "stream",
          "text": [
            "Drive already mounted at /content/drive; to attempt to forcibly remount, call drive.mount(\"/content/drive\", force_remount=True).\n"
          ],
          "name": "stdout"
        }
      ]
    },
    {
      "cell_type": "code",
      "metadata": {
        "id": "igNEsqKSaU-_",
        "colab_type": "code",
        "colab": {}
      },
      "source": [
        "!cp 'drive/My Drive/Leaf Disease/Dataset/Train_Dataset.zip' ."
      ],
      "execution_count": 39,
      "outputs": []
    },
    {
      "cell_type": "code",
      "metadata": {
        "id": "bnPE91M9aWxN",
        "colab_type": "code",
        "colab": {
          "base_uri": "https://localhost:8080/",
          "height": 83
        },
        "outputId": "f77049af-5e87-40b1-a4be-2e72719767ad"
      },
      "source": [
        "!unzip Train_Dataset.zip"
      ],
      "execution_count": null,
      "outputs": [
        {
          "output_type": "stream",
          "text": [
            "Archive:  Train_Dataset.zip\n",
            "replace Data_3/Test/Tomato_Bacterial_Spot/0ab9c705-f29e-45ac-b786-9549b3c38f16___GCREC_Bact.Sp 3223.JPG? [y]es, [n]o, [A]ll, [N]one, [r]ename: "
          ],
          "name": "stdout"
        }
      ]
    },
    {
      "cell_type": "markdown",
      "metadata": {
        "id": "WCn5un45DbVj",
        "colab_type": "text"
      },
      "source": [
        "# Importing Modules"
      ]
    },
    {
      "cell_type": "code",
      "metadata": {
        "id": "8dXLD_P6CeeJ",
        "colab_type": "code",
        "colab": {}
      },
      "source": [
        "!pip install extra_keras_metrics"
      ],
      "execution_count": null,
      "outputs": []
    },
    {
      "cell_type": "code",
      "metadata": {
        "id": "JP11p-6HaYwE",
        "colab_type": "code",
        "colab": {}
      },
      "source": [
        "%tensorflow_version 1.15\n",
        "import os\n",
        "import matplotlib.pyplot as plt\n",
        "from keras.preprocessing.image import ImageDataGenerator\n",
        "from keras.models import Sequential\n",
        "from keras.layers import Conv2D, MaxPooling2D, Activation, Dropout, Flatten, Dense\n",
        "from keras.callbacks import EarlyStopping, ModelCheckpoint, ReduceLROnPlateau\n",
        "from keras.layers.normalization import BatchNormalization\n",
        "from keras import backend as K\n",
        "import keras\n",
        "from keras.preprocessing import image\n",
        "import numpy as np\n",
        "import extra_keras_metrics as ekm\n",
        "from keras.utils import plot_model\n",
        "import json\n",
        "from google.colab import files\n",
        "import seaborn as sn\n",
        "from sklearn.metrics import confusion_matrix\n",
        "from sklearn.metrics import classification_report\n",
        "import pandas as pd"
      ],
      "execution_count": null,
      "outputs": []
    },
    {
      "cell_type": "markdown",
      "metadata": {
        "id": "6dsdC-YsDu2T",
        "colab_type": "text"
      },
      "source": [
        "# Data Preparation"
      ]
    },
    {
      "cell_type": "code",
      "metadata": {
        "id": "LHVCrzMMd2Ng",
        "colab_type": "code",
        "colab": {}
      },
      "source": [
        "data_folder = 'Data_3/Train'\n",
        "directory = os.listdir(data_folder)\n",
        "\n",
        "file_counts = {}\n",
        "for d in directory:\n",
        "    file_counts[d] = len(os.listdir(os.path.join(data_folder, d)))\n",
        "    \n",
        "# Plot bar chart\n",
        "plt.figure(figsize=(8,4))\n",
        "plt.bar(file_counts.keys(), file_counts.values())\n",
        "plt.xticks(rotation='vertical')\n",
        "plt.show()"
      ],
      "execution_count": null,
      "outputs": []
    },
    {
      "cell_type": "code",
      "metadata": {
        "id": "O8jjQFjmd44G",
        "colab_type": "code",
        "colab": {}
      },
      "source": [
        "data_folder = 'Data_3/Test'\n",
        "directory = os.listdir(data_folder)\n",
        "\n",
        "file_counts = {}\n",
        "for d in directory:\n",
        "    file_counts[d] = len(os.listdir(os.path.join(data_folder, d)))\n",
        "    \n",
        "# Plot bar chart\n",
        "plt.figure(figsize=(8,4))\n",
        "plt.bar(file_counts.keys(), file_counts.values())\n",
        "plt.xticks(rotation='vertical')\n",
        "plt.show()"
      ],
      "execution_count": null,
      "outputs": []
    },
    {
      "cell_type": "code",
      "metadata": {
        "id": "OF6SDGgEeHik",
        "colab_type": "code",
        "colab": {}
      },
      "source": [
        "image = plt.imread('Data_3/Train/Tomato_Bacterial_Spot/0045ba29-ed1b-43b4-afde-719cc7adefdb___GCREC_Bact.Sp 6254.JPG')\n",
        "image.shape"
      ],
      "execution_count": null,
      "outputs": []
    },
    {
      "cell_type": "code",
      "metadata": {
        "id": "pnNzKv1OeK8E",
        "colab_type": "code",
        "colab": {}
      },
      "source": [
        "# Image preprocessing\n",
        "img_height = image.shape[0]\n",
        "img_width = image.shape[1]\n",
        "\n",
        "train_data_dir = 'Data_3/Train'\n",
        "test_data_dir = 'Data_3/Test'\n",
        "\n",
        "epochs = 50\n",
        "batch_size = 20\n",
        "batch_dim = -1\n",
        "\n",
        "if K.image_data_format() == 'channels_first':\n",
        "    input_shape = (3, img_height, img_width)\n",
        "    batch_dim = 1\n",
        "else:\n",
        "    input_shape = (img_height, img_width, 3)\n",
        "\n",
        "train_datagen = ImageDataGenerator(rescale=1./255, shear_range=0.2, zoom_range=0.2, rotation_range=0.2, horizontal_flip=True)\n",
        "test_datagen = ImageDataGenerator(rescale=1./255)\n",
        "\n",
        "train_generator = train_datagen.flow_from_directory(train_data_dir, target_size=(img_height, img_width), batch_size=batch_size, class_mode='categorical')\n",
        "test_generator = train_datagen.flow_from_directory(test_data_dir, target_size=(img_height, img_width), batch_size=batch_size, class_mode='categorical')"
      ],
      "execution_count": null,
      "outputs": []
    },
    {
      "cell_type": "code",
      "metadata": {
        "id": "ZiU41039yhyf",
        "colab_type": "code",
        "colab": {}
      },
      "source": [
        "train_size = len(train_generator.labels)\n",
        "test_size = len(test_generator.labels)"
      ],
      "execution_count": null,
      "outputs": []
    },
    {
      "cell_type": "markdown",
      "metadata": {
        "id": "sYhUxQEDCjeb",
        "colab_type": "text"
      },
      "source": [
        "# Model Preparation"
      ]
    },
    {
      "cell_type": "code",
      "metadata": {
        "id": "Tz7vl9vCiQO7",
        "colab_type": "code",
        "colab": {}
      },
      "source": [
        "model = Sequential()\n",
        "model.add(Conv2D(32, (3, 3), input_shape=input_shape, bias_regularizer=keras.regularizers.l1_l2(l1=0.1, l2=0.01), activation='relu'))\n",
        "model.add(BatchNormalization(axis=batch_dim))\n",
        "model.add(MaxPooling2D(pool_size=(2, 2)))\n",
        "\n",
        "model.add(Conv2D(64, (3, 3), bias_regularizer=keras.regularizers.l1_l2(l1=0.1, l2=0.01), activation='relu'))\n",
        "model.add(BatchNormalization(axis=batch_dim))\n",
        "model.add(MaxPooling2D(pool_size=(2, 2)))\n",
        "\n",
        "model.add(Conv2D(128, (3, 3), bias_regularizer=keras.regularizers.l1_l2(l1=0.1, l2=0.01), activation='relu'))\n",
        "model.add(BatchNormalization(axis=batch_dim))\n",
        "model.add(MaxPooling2D(pool_size=(2, 2)))\n",
        "\n",
        "model.add(Conv2D(128, (3, 3), bias_regularizer=keras.regularizers.l1_l2(l1=0.1, l2=0.01), activation='relu'))\n",
        "model.add(BatchNormalization(axis=batch_dim))\n",
        "model.add(MaxPooling2D(pool_size=(2, 2)))\n",
        "\n",
        "model.add(Conv2D(64, (3, 3), bias_regularizer=keras.regularizers.l1_l2(l1=0.1, l2=0.01), activation='relu'))\n",
        "model.add(BatchNormalization(axis=batch_dim))\n",
        "model.add(MaxPooling2D(pool_size=(2, 2)))\n",
        "\n",
        "model.add(Flatten())\n",
        "model.add(Dense(512, activation='relu'))\n",
        "model.add(BatchNormalization(axis=batch_dim))\n",
        "\n",
        "model.add(Dense(64, activation='relu'))\n",
        "model.add(BatchNormalization(axis=batch_dim))\n",
        "model.add(Dropout(0.2))\n",
        "\n",
        "model.add(Dense(8))\n",
        "model.add(Activation(activation='softmax'))\n",
        "\n",
        "model.summary()"
      ],
      "execution_count": null,
      "outputs": []
    },
    {
      "cell_type": "code",
      "metadata": {
        "id": "KjDSpT3MDIdk",
        "colab_type": "code",
        "colab": {}
      },
      "source": [
        "plot_model(model, to_file='model.png')"
      ],
      "execution_count": null,
      "outputs": []
    },
    {
      "cell_type": "code",
      "metadata": {
        "id": "grWqy5oTiSEF",
        "colab_type": "code",
        "colab": {}
      },
      "source": [
        "callbacks = [\n",
        "    # EarlyStopping(patience=10, verbose=1),\n",
        "    ReduceLROnPlateau(factor=0.1, patience=5, min_lr=0.000001, verbose=1),\n",
        "    ModelCheckpoint('plants.h5', verbose=1, save_best_only=True, save_weights_only=True)\n",
        "]"
      ],
      "execution_count": null,
      "outputs": []
    },
    {
      "cell_type": "code",
      "metadata": {
        "id": "Z4gwETP1iUit",
        "colab_type": "code",
        "colab": {}
      },
      "source": [
        "metrics=[\"accuracy\", ekm.precision, ekm.recall]\n",
        "model.compile(loss='categorical_crossentropy', optimizer='adam', metrics=[\"accuracy\"])\n",
        "results = model.fit_generator(train_generator, epochs=epochs, steps_per_epoch=np.ceil(train_size/batch_size), validation_data=test_generator, validation_steps=np.ceil(test_size/batch_size), callbacks=callbacks)"
      ],
      "execution_count": null,
      "outputs": []
    },
    {
      "cell_type": "markdown",
      "metadata": {
        "id": "S5bfEQU0BbQq",
        "colab_type": "text"
      },
      "source": [
        "# Observations"
      ]
    },
    {
      "cell_type": "code",
      "metadata": {
        "id": "580GVX2culoH",
        "colab_type": "code",
        "colab": {}
      },
      "source": [
        "plt.figure(figsize=(8, 5))\n",
        "plt.title(\"Training Summary\")\n",
        "plt.xlim(0, 50)\n",
        "plt.ylim(0, 1)\n",
        "plt.plot(results.history['accuracy'], label=\"acc\")\n",
        "plt.plot(results.history['loss'], label=\"loss\")\n",
        "plt.plot(results.history['precision'], label=\"precision\")\n",
        "plt.plot(results.history['recall'], label=\"recall\")\n",
        "plt.xlabel(\"Epochs\")\n",
        "plt.ylabel(\"Value\")\n",
        "plt.legend();"
      ],
      "execution_count": null,
      "outputs": []
    },
    {
      "cell_type": "code",
      "metadata": {
        "id": "cSOyr1QpeCtF",
        "colab_type": "code",
        "colab": {}
      },
      "source": [
        "plt.figure(figsize=(8, 5))\n",
        "plt.title(\"Validation Summary\")\n",
        "plt.xlim(0, 50)\n",
        "plt.ylim(0, 1)\n",
        "plt.plot(results.history['val_accuracy'], label=\"val_acc\")\n",
        "plt.plot(results.history['val_loss'], label=\"val_loss\")\n",
        "plt.plot(results.history['val_precision'], label=\"val_precision\")\n",
        "plt.plot(results.history['val_recall'], label=\"val_recall\")\n",
        "plt.xlabel(\"Epochs\")\n",
        "plt.ylabel(\"Value\")\n",
        "plt.legend();"
      ],
      "execution_count": null,
      "outputs": []
    },
    {
      "cell_type": "markdown",
      "metadata": {
        "id": "FDSDwKFCCHzN",
        "colab_type": "text"
      },
      "source": [
        "# Downloads"
      ]
    },
    {
      "cell_type": "code",
      "metadata": {
        "id": "MI3CdySbRPLI",
        "colab_type": "code",
        "colab": {}
      },
      "source": [
        "model_history = results.history"
      ],
      "execution_count": null,
      "outputs": []
    },
    {
      "cell_type": "code",
      "metadata": {
        "id": "oKxj3RIw_zPW",
        "colab_type": "code",
        "colab": {}
      },
      "source": [
        "# Download history\n",
        "with open(\"history.json\", \"w\") as f:\n",
        "    json.dump(str(model_history), f)\n",
        "files.download(\"history.json\")\n",
        "# Download model\n",
        "files.download(plants.h5)"
      ],
      "execution_count": null,
      "outputs": []
    },
    {
      "cell_type": "code",
      "metadata": {
        "id": "xyq_3cuNSyIT",
        "colab_type": "code",
        "colab": {}
      },
      "source": [
        ""
      ],
      "execution_count": null,
      "outputs": []
    },
    {
      "cell_type": "markdown",
      "metadata": {
        "id": "We9gR03AS03g",
        "colab_type": "text"
      },
      "source": [
        "# Model Performance Evaluation"
      ]
    },
    {
      "cell_type": "code",
      "metadata": {
        "id": "cVi-UfFSux9X",
        "colab_type": "code",
        "colab": {}
      },
      "source": [
        "!cp 'drive/My Drive/Leaf Disease/Dataset/Test_Dataset.zip' .\n",
        "!unzip Test_Dataset.zip"
      ],
      "execution_count": null,
      "outputs": []
    },
    {
      "cell_type": "code",
      "metadata": {
        "id": "Qj_OitGtTCod",
        "colab_type": "code",
        "colab": {}
      },
      "source": [
        "preds = []\n",
        "\n",
        "test_data_dir = 'Test_Dataset'\n",
        "\n",
        "dirs = sorted(os.listdir(test_data_dir))\n",
        "\n",
        "for class_index in range(len(dirs)):\n",
        "  class_path = os.path.join(test_data_dir, dirs[class_index])\n",
        "  files = sorted(os.listdir(class_path))\n",
        "\n",
        "  for f in files:\n",
        "    image_path = os.path.join(class_path, f)\n",
        "    image_pred = image.load_img(image_path, target_size=(img_height, img_width))\n",
        "\n",
        "    image_pred = image.img_to_array(image_pred) / 256\n",
        "    image_pred = np.expand_dims(image_pred, axis=0)\n",
        "\n",
        "    result = model.predict_classes(image_pred)\n",
        "\n",
        "    preds.append(result[0])\n",
        "  \n",
        "  class_index += 1\n"
      ],
      "execution_count": null,
      "outputs": []
    },
    {
      "cell_type": "code",
      "metadata": {
        "id": "rhitQUr4TSt0",
        "colab_type": "code",
        "colab": {}
      },
      "source": [
        "test_datagen = ImageDataGenerator(rescale=1./255)\n",
        "test_generator = test_datagen.flow_from_directory(test_data_dir, target_size=(img_height, img_width), class_mode='categorical')\n",
        "target_names = list(test_generator.class_indices.keys())\n",
        "target_names"
      ],
      "execution_count": null,
      "outputs": []
    },
    {
      "cell_type": "markdown",
      "metadata": {
        "id": "pIJwzDCwUAGX",
        "colab_type": "text"
      },
      "source": [
        "### Confusion Matrix"
      ]
    },
    {
      "cell_type": "code",
      "metadata": {
        "id": "Ex8SjVyrTWrK",
        "colab_type": "code",
        "colab": {}
      },
      "source": [
        "con_mat = confusion_matrix(test_generator.classes, preds)\n",
        "df_cm = pd.DataFrame(con_mat, columns=target_names, index=target_names)\n",
        "sn.heatmap(df_cm, annot=True)"
      ],
      "execution_count": null,
      "outputs": []
    },
    {
      "cell_type": "markdown",
      "metadata": {
        "id": "_YfzYMbIUJ9-",
        "colab_type": "text"
      },
      "source": [
        "### Classification Report"
      ]
    },
    {
      "cell_type": "code",
      "metadata": {
        "id": "qKNJuN28TdVd",
        "colab_type": "code",
        "colab": {}
      },
      "source": [
        "print(classification_report(test_generator.classes, preds, target_names=target_names))"
      ],
      "execution_count": null,
      "outputs": []
    },
    {
      "cell_type": "code",
      "metadata": {
        "id": "05wKSlC7UOTD",
        "colab_type": "code",
        "colab": {}
      },
      "source": [
        ""
      ],
      "execution_count": null,
      "outputs": []
    }
  ]
}